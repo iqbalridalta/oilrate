{
 "cells": [
  {
   "cell_type": "code",
   "execution_count": 1,
   "metadata": {},
   "outputs": [],
   "source": [
    "inputs = {  'investment_cost': 30e6,\n",
    "            'yearly_ops_cost': 2e6,\n",
    "             'yearly_revenue': 10e6,\n",
    "             'discount_rate': 0.1,\n",
    "             'inflation_rate': 0.02}"
   ]
  },
  {
   "cell_type": "code",
   "execution_count": 2,
   "metadata": {},
   "outputs": [],
   "source": [
    "import pandas as pd\n",
    "import numpy as np\n",
    "import matplotlib.pyplot as plt\n",
    "pd.options.mode.chained_assignment = None  # default='warn'"
   ]
  },
  {
   "cell_type": "code",
   "execution_count": 3,
   "metadata": {},
   "outputs": [
    {
     "name": "stdout",
     "output_type": "stream",
     "text": [
      "Empty DataFrame\n",
      "Columns: []\n",
      "Index: []\n"
     ]
    }
   ],
   "source": [
    "df = pd.DataFrame()\n",
    "print(df)"
   ]
  },
  {
   "cell_type": "code",
   "execution_count": 4,
   "metadata": {},
   "outputs": [
    {
     "name": "stdout",
     "output_type": "stream",
     "text": [
      "   year  year_n\n",
      "0  2020       0\n",
      "1  2021       1\n"
     ]
    }
   ],
   "source": [
    "df['year'] = [2020, 2021, 2022, 2023, 2024, 2025]\n",
    "df['year_n'] = [num - df['year'][0] for num in df['year']]\n",
    "\n",
    "print(df.head(2))"
   ]
  },
  {
   "cell_type": "code",
   "execution_count": 5,
   "metadata": {},
   "outputs": [
    {
     "data": {
      "text/html": [
       "<div>\n",
       "<style scoped>\n",
       "    .dataframe tbody tr th:only-of-type {\n",
       "        vertical-align: middle;\n",
       "    }\n",
       "\n",
       "    .dataframe tbody tr th {\n",
       "        vertical-align: top;\n",
       "    }\n",
       "\n",
       "    .dataframe thead th {\n",
       "        text-align: right;\n",
       "    }\n",
       "</style>\n",
       "<table border=\"1\" class=\"dataframe\">\n",
       "  <thead>\n",
       "    <tr style=\"text-align: right;\">\n",
       "      <th></th>\n",
       "      <th>year</th>\n",
       "      <th>year_n</th>\n",
       "      <th>inflation_factor</th>\n",
       "    </tr>\n",
       "  </thead>\n",
       "  <tbody>\n",
       "    <tr>\n",
       "      <th>0</th>\n",
       "      <td>2020</td>\n",
       "      <td>0</td>\n",
       "      <td>1.00</td>\n",
       "    </tr>\n",
       "    <tr>\n",
       "      <th>1</th>\n",
       "      <td>2021</td>\n",
       "      <td>1</td>\n",
       "      <td>1.02</td>\n",
       "    </tr>\n",
       "  </tbody>\n",
       "</table>\n",
       "</div>"
      ],
      "text/plain": [
       "   year  year_n  inflation_factor\n",
       "0  2020       0              1.00\n",
       "1  2021       1              1.02"
      ]
     },
     "execution_count": 5,
     "metadata": {},
     "output_type": "execute_result"
    }
   ],
   "source": [
    "df['inflation_factor'] = [(1+inputs['inflation_rate'])**num_year_n for num_year_n in df['year_n']]\n",
    "df.head(2)"
   ]
  },
  {
   "cell_type": "code",
   "execution_count": 6,
   "metadata": {},
   "outputs": [
    {
     "name": "stdout",
     "output_type": "stream",
     "text": [
      "   year  year_n  inflation_factor     revenue\n",
      "0  2020       0              1.00         0.0\n",
      "1  2021       1              1.02  10200000.0\n"
     ]
    }
   ],
   "source": [
    "df['revenue'] = [inputs['yearly_revenue']  * num_inf for num_inf in df['inflation_factor']]\n",
    "df['revenue'][0] = 0\n",
    "print(df.head(2))"
   ]
  },
  {
   "cell_type": "code",
   "execution_count": 7,
   "metadata": {},
   "outputs": [
    {
     "name": "stdout",
     "output_type": "stream",
     "text": [
      "   year  year_n  inflation_factor     revenue  investment\n",
      "0  2020       0              1.00         0.0    30000000\n",
      "1  2021       1              1.02  10200000.0           0\n"
     ]
    }
   ],
   "source": [
    "df['investment'] = [0 for col in range(len(df))]\n",
    "df['investment'][0] = inputs['investment_cost']\n",
    "print(df.head(2))"
   ]
  },
  {
   "cell_type": "code",
   "execution_count": 8,
   "metadata": {},
   "outputs": [
    {
     "data": {
      "text/html": [
       "<div>\n",
       "<style scoped>\n",
       "    .dataframe tbody tr th:only-of-type {\n",
       "        vertical-align: middle;\n",
       "    }\n",
       "\n",
       "    .dataframe tbody tr th {\n",
       "        vertical-align: top;\n",
       "    }\n",
       "\n",
       "    .dataframe thead th {\n",
       "        text-align: right;\n",
       "    }\n",
       "</style>\n",
       "<table border=\"1\" class=\"dataframe\">\n",
       "  <thead>\n",
       "    <tr style=\"text-align: right;\">\n",
       "      <th></th>\n",
       "      <th>year</th>\n",
       "      <th>year_n</th>\n",
       "      <th>inflation_factor</th>\n",
       "      <th>revenue</th>\n",
       "      <th>investment</th>\n",
       "      <th>operational</th>\n",
       "    </tr>\n",
       "  </thead>\n",
       "  <tbody>\n",
       "    <tr>\n",
       "      <th>0</th>\n",
       "      <td>2020</td>\n",
       "      <td>0</td>\n",
       "      <td>1.00</td>\n",
       "      <td>0.0</td>\n",
       "      <td>30000000</td>\n",
       "      <td>0.0</td>\n",
       "    </tr>\n",
       "    <tr>\n",
       "      <th>1</th>\n",
       "      <td>2021</td>\n",
       "      <td>1</td>\n",
       "      <td>1.02</td>\n",
       "      <td>10200000.0</td>\n",
       "      <td>0</td>\n",
       "      <td>2040000.0</td>\n",
       "    </tr>\n",
       "  </tbody>\n",
       "</table>\n",
       "</div>"
      ],
      "text/plain": [
       "   year  year_n  inflation_factor     revenue  investment  operational\n",
       "0  2020       0              1.00         0.0    30000000          0.0\n",
       "1  2021       1              1.02  10200000.0           0    2040000.0"
      ]
     },
     "execution_count": 8,
     "metadata": {},
     "output_type": "execute_result"
    }
   ],
   "source": [
    "df['operational'] = [inputs['yearly_ops_cost']*num for num in df['inflation_factor']]\n",
    "df['operational'][0] = 0\n",
    "df.head(2)"
   ]
  },
  {
   "cell_type": "code",
   "execution_count": null,
   "metadata": {},
   "outputs": [],
   "source": [
    "df['cashflowww'] = [(num1 - num2 - num3) for num1 in df['revenue'] for num2 in df['investment'] for num3 in df['operational']]"
   ]
  },
  {
   "cell_type": "code",
   "execution_count": 10,
   "metadata": {},
   "outputs": [
    {
     "name": "stdout",
     "output_type": "stream",
     "text": [
      "   year  year_n  inflation_factor     revenue  investment  operational  \\\n",
      "0  2020       0          1.000000         0.0    30000000         0.00   \n",
      "1  2021       1          1.020000  10200000.0           0   2040000.00   \n",
      "2  2022       2          1.040400  10404000.0           0   2080800.00   \n",
      "3  2023       3          1.061208  10612080.0           0   2122416.00   \n",
      "4  2024       4          1.082432  10824321.6           0   2164864.32   \n",
      "\n",
      "   cashflow  \n",
      "0 -30000000  \n",
      "1   8160000  \n",
      "2   8323200  \n",
      "3   8489664  \n",
      "4   8659457  \n"
     ]
    }
   ],
   "source": [
    "df['cashflow'] = [0 for col in range(len(df))]\n",
    "for i in range(len(df)):\n",
    "    df['cashflow'][i] = df['revenue'][i] - df['investment'][i] - df['operational'][i]\n",
    "print(df.head())"
   ]
  },
  {
   "cell_type": "code",
   "execution_count": 11,
   "metadata": {},
   "outputs": [
    {
     "data": {
      "text/html": [
       "<div>\n",
       "<style scoped>\n",
       "    .dataframe tbody tr th:only-of-type {\n",
       "        vertical-align: middle;\n",
       "    }\n",
       "\n",
       "    .dataframe tbody tr th {\n",
       "        vertical-align: top;\n",
       "    }\n",
       "\n",
       "    .dataframe thead th {\n",
       "        text-align: right;\n",
       "    }\n",
       "</style>\n",
       "<table border=\"1\" class=\"dataframe\">\n",
       "  <thead>\n",
       "    <tr style=\"text-align: right;\">\n",
       "      <th></th>\n",
       "      <th>year</th>\n",
       "      <th>year_n</th>\n",
       "      <th>inflation_factor</th>\n",
       "      <th>revenue</th>\n",
       "      <th>investment</th>\n",
       "      <th>operational</th>\n",
       "      <th>cashflow</th>\n",
       "      <th>cum_cashflow</th>\n",
       "    </tr>\n",
       "  </thead>\n",
       "  <tbody>\n",
       "    <tr>\n",
       "      <th>0</th>\n",
       "      <td>2020</td>\n",
       "      <td>0</td>\n",
       "      <td>1.00</td>\n",
       "      <td>0.0</td>\n",
       "      <td>30000000</td>\n",
       "      <td>0.0</td>\n",
       "      <td>-30000000</td>\n",
       "      <td>-30000000</td>\n",
       "    </tr>\n",
       "    <tr>\n",
       "      <th>1</th>\n",
       "      <td>2021</td>\n",
       "      <td>1</td>\n",
       "      <td>1.02</td>\n",
       "      <td>10200000.0</td>\n",
       "      <td>0</td>\n",
       "      <td>2040000.0</td>\n",
       "      <td>8160000</td>\n",
       "      <td>-21840000</td>\n",
       "    </tr>\n",
       "  </tbody>\n",
       "</table>\n",
       "</div>"
      ],
      "text/plain": [
       "   year  year_n  inflation_factor     revenue  investment  operational  \\\n",
       "0  2020       0              1.00         0.0    30000000          0.0   \n",
       "1  2021       1              1.02  10200000.0           0    2040000.0   \n",
       "\n",
       "   cashflow  cum_cashflow  \n",
       "0 -30000000     -30000000  \n",
       "1   8160000     -21840000  "
      ]
     },
     "execution_count": 11,
     "metadata": {},
     "output_type": "execute_result"
    }
   ],
   "source": [
    "df['cum_cashflow'] = df['cashflow'].cumsum()\n",
    "df.head(2)"
   ]
  },
  {
   "cell_type": "code",
   "execution_count": 12,
   "metadata": {},
   "outputs": [
    {
     "data": {
      "text/html": [
       "<div>\n",
       "<style scoped>\n",
       "    .dataframe tbody tr th:only-of-type {\n",
       "        vertical-align: middle;\n",
       "    }\n",
       "\n",
       "    .dataframe tbody tr th {\n",
       "        vertical-align: top;\n",
       "    }\n",
       "\n",
       "    .dataframe thead th {\n",
       "        text-align: right;\n",
       "    }\n",
       "</style>\n",
       "<table border=\"1\" class=\"dataframe\">\n",
       "  <thead>\n",
       "    <tr style=\"text-align: right;\">\n",
       "      <th></th>\n",
       "      <th>year</th>\n",
       "      <th>year_n</th>\n",
       "      <th>inflation_factor</th>\n",
       "      <th>revenue</th>\n",
       "      <th>investment</th>\n",
       "      <th>operational</th>\n",
       "      <th>cashflow</th>\n",
       "      <th>cum_cashflow</th>\n",
       "      <th>discount_factor</th>\n",
       "    </tr>\n",
       "  </thead>\n",
       "  <tbody>\n",
       "    <tr>\n",
       "      <th>0</th>\n",
       "      <td>2020</td>\n",
       "      <td>0</td>\n",
       "      <td>1.00</td>\n",
       "      <td>0.0</td>\n",
       "      <td>30000000</td>\n",
       "      <td>0.0</td>\n",
       "      <td>-30000000</td>\n",
       "      <td>-30000000</td>\n",
       "      <td>1.000000</td>\n",
       "    </tr>\n",
       "    <tr>\n",
       "      <th>1</th>\n",
       "      <td>2021</td>\n",
       "      <td>1</td>\n",
       "      <td>1.02</td>\n",
       "      <td>10200000.0</td>\n",
       "      <td>0</td>\n",
       "      <td>2040000.0</td>\n",
       "      <td>8160000</td>\n",
       "      <td>-21840000</td>\n",
       "      <td>0.909091</td>\n",
       "    </tr>\n",
       "  </tbody>\n",
       "</table>\n",
       "</div>"
      ],
      "text/plain": [
       "   year  year_n  inflation_factor     revenue  investment  operational  \\\n",
       "0  2020       0              1.00         0.0    30000000          0.0   \n",
       "1  2021       1              1.02  10200000.0           0    2040000.0   \n",
       "\n",
       "   cashflow  cum_cashflow  discount_factor  \n",
       "0 -30000000     -30000000         1.000000  \n",
       "1   8160000     -21840000         0.909091  "
      ]
     },
     "execution_count": 12,
     "metadata": {},
     "output_type": "execute_result"
    }
   ],
   "source": [
    "df['discount_factor'] = [1/((1+inputs['discount_rate'])**num1) for num1 in df['year_n']]\n",
    "df.head(2)"
   ]
  },
  {
   "cell_type": "code",
   "execution_count": 13,
   "metadata": {},
   "outputs": [
    {
     "name": "stdout",
     "output_type": "stream",
     "text": [
      "   year  year_n  inflation_factor     revenue  investment  operational  \\\n",
      "0  2020       0          1.000000         0.0    30000000         0.00   \n",
      "1  2021       1          1.020000  10200000.0           0   2040000.00   \n",
      "2  2022       2          1.040400  10404000.0           0   2080800.00   \n",
      "3  2023       3          1.061208  10612080.0           0   2122416.00   \n",
      "4  2024       4          1.082432  10824321.6           0   2164864.32   \n",
      "\n",
      "   cashflow  cum_cashflow  discount_factor  present_value  \n",
      "0 -30000000     -30000000         1.000000      -30000000  \n",
      "1   8160000     -21840000         0.909091        7418181  \n",
      "2   8323200     -13516800         0.826446        6878677  \n",
      "3   8489664      -5027136         0.751315        6378410  \n",
      "4   8659457       3632321         0.683013        5914525  \n"
     ]
    }
   ],
   "source": [
    "df['present_value'] = [0 for col in range(len(df))]\n",
    "for i in range(len(df)):\n",
    "    df['present_value'][i] = df['cashflow'][i] * df['discount_factor'][i]\n",
    "print(df.head())"
   ]
  },
  {
   "cell_type": "code",
   "execution_count": 14,
   "metadata": {},
   "outputs": [
    {
     "data": {
      "text/html": [
       "<div>\n",
       "<style scoped>\n",
       "    .dataframe tbody tr th:only-of-type {\n",
       "        vertical-align: middle;\n",
       "    }\n",
       "\n",
       "    .dataframe tbody tr th {\n",
       "        vertical-align: top;\n",
       "    }\n",
       "\n",
       "    .dataframe thead th {\n",
       "        text-align: right;\n",
       "    }\n",
       "</style>\n",
       "<table border=\"1\" class=\"dataframe\">\n",
       "  <thead>\n",
       "    <tr style=\"text-align: right;\">\n",
       "      <th></th>\n",
       "      <th>year</th>\n",
       "      <th>year_n</th>\n",
       "      <th>inflation_factor</th>\n",
       "      <th>revenue</th>\n",
       "      <th>investment</th>\n",
       "      <th>operational</th>\n",
       "      <th>cashflow</th>\n",
       "      <th>cum_cashflow</th>\n",
       "      <th>discount_factor</th>\n",
       "      <th>present_value</th>\n",
       "      <th>cum_pv</th>\n",
       "    </tr>\n",
       "  </thead>\n",
       "  <tbody>\n",
       "    <tr>\n",
       "      <th>0</th>\n",
       "      <td>2020</td>\n",
       "      <td>0</td>\n",
       "      <td>1.000000</td>\n",
       "      <td>0.000000e+00</td>\n",
       "      <td>30000000</td>\n",
       "      <td>0.000000e+00</td>\n",
       "      <td>-30000000</td>\n",
       "      <td>-30000000</td>\n",
       "      <td>1.000000</td>\n",
       "      <td>-30000000</td>\n",
       "      <td>-30000000</td>\n",
       "    </tr>\n",
       "    <tr>\n",
       "      <th>1</th>\n",
       "      <td>2021</td>\n",
       "      <td>1</td>\n",
       "      <td>1.020000</td>\n",
       "      <td>1.020000e+07</td>\n",
       "      <td>0</td>\n",
       "      <td>2.040000e+06</td>\n",
       "      <td>8160000</td>\n",
       "      <td>-21840000</td>\n",
       "      <td>0.909091</td>\n",
       "      <td>7418181</td>\n",
       "      <td>-22581819</td>\n",
       "    </tr>\n",
       "    <tr>\n",
       "      <th>2</th>\n",
       "      <td>2022</td>\n",
       "      <td>2</td>\n",
       "      <td>1.040400</td>\n",
       "      <td>1.040400e+07</td>\n",
       "      <td>0</td>\n",
       "      <td>2.080800e+06</td>\n",
       "      <td>8323200</td>\n",
       "      <td>-13516800</td>\n",
       "      <td>0.826446</td>\n",
       "      <td>6878677</td>\n",
       "      <td>-15703142</td>\n",
       "    </tr>\n",
       "    <tr>\n",
       "      <th>3</th>\n",
       "      <td>2023</td>\n",
       "      <td>3</td>\n",
       "      <td>1.061208</td>\n",
       "      <td>1.061208e+07</td>\n",
       "      <td>0</td>\n",
       "      <td>2.122416e+06</td>\n",
       "      <td>8489664</td>\n",
       "      <td>-5027136</td>\n",
       "      <td>0.751315</td>\n",
       "      <td>6378410</td>\n",
       "      <td>-9324732</td>\n",
       "    </tr>\n",
       "    <tr>\n",
       "      <th>4</th>\n",
       "      <td>2024</td>\n",
       "      <td>4</td>\n",
       "      <td>1.082432</td>\n",
       "      <td>1.082432e+07</td>\n",
       "      <td>0</td>\n",
       "      <td>2.164864e+06</td>\n",
       "      <td>8659457</td>\n",
       "      <td>3632321</td>\n",
       "      <td>0.683013</td>\n",
       "      <td>5914525</td>\n",
       "      <td>-3410207</td>\n",
       "    </tr>\n",
       "    <tr>\n",
       "      <th>5</th>\n",
       "      <td>2025</td>\n",
       "      <td>5</td>\n",
       "      <td>1.104081</td>\n",
       "      <td>1.104081e+07</td>\n",
       "      <td>0</td>\n",
       "      <td>2.208162e+06</td>\n",
       "      <td>8832646</td>\n",
       "      <td>12464967</td>\n",
       "      <td>0.620921</td>\n",
       "      <td>5484378</td>\n",
       "      <td>2074171</td>\n",
       "    </tr>\n",
       "  </tbody>\n",
       "</table>\n",
       "</div>"
      ],
      "text/plain": [
       "   year  year_n  inflation_factor       revenue  investment   operational  \\\n",
       "0  2020       0          1.000000  0.000000e+00    30000000  0.000000e+00   \n",
       "1  2021       1          1.020000  1.020000e+07           0  2.040000e+06   \n",
       "2  2022       2          1.040400  1.040400e+07           0  2.080800e+06   \n",
       "3  2023       3          1.061208  1.061208e+07           0  2.122416e+06   \n",
       "4  2024       4          1.082432  1.082432e+07           0  2.164864e+06   \n",
       "5  2025       5          1.104081  1.104081e+07           0  2.208162e+06   \n",
       "\n",
       "   cashflow  cum_cashflow  discount_factor  present_value    cum_pv  \n",
       "0 -30000000     -30000000         1.000000      -30000000 -30000000  \n",
       "1   8160000     -21840000         0.909091        7418181 -22581819  \n",
       "2   8323200     -13516800         0.826446        6878677 -15703142  \n",
       "3   8489664      -5027136         0.751315        6378410  -9324732  \n",
       "4   8659457       3632321         0.683013        5914525  -3410207  \n",
       "5   8832646      12464967         0.620921        5484378   2074171  "
      ]
     },
     "execution_count": 14,
     "metadata": {},
     "output_type": "execute_result"
    }
   ],
   "source": [
    "df['cum_pv'] = df['present_value'].cumsum()\n",
    "df"
   ]
  },
  {
   "cell_type": "code",
   "execution_count": 15,
   "metadata": {},
   "outputs": [],
   "source": [
    "df_summary = pd.DataFrame()"
   ]
  },
  {
   "cell_type": "code",
   "execution_count": 16,
   "metadata": {},
   "outputs": [
    {
     "data": {
      "text/plain": [
       "\"\\ndef compute_netcashflow(df):\\n    column = 'cashflow'\\n    return (df[column].sum())\\n\""
      ]
     },
     "execution_count": 16,
     "metadata": {},
     "output_type": "execute_result"
    }
   ],
   "source": [
    "'''\n",
    "def compute_netcashflow(df):\n",
    "    column = 'cashflow'\n",
    "    return (df[column].sum())\n",
    "'''"
   ]
  },
  {
   "cell_type": "code",
   "execution_count": 17,
   "metadata": {},
   "outputs": [],
   "source": [
    "#df_summary['net cashflow'] = df.apply(compute_netcashflow)"
   ]
  },
  {
   "cell_type": "code",
   "execution_count": 18,
   "metadata": {},
   "outputs": [],
   "source": [
    "summary = {'net cashflow (MMUSD)': [df['cashflow'].sum()/1E6], \n",
    "            'npv (MMUSD)': [df['present_value'].sum()/1E6],\n",
    "            'irr(%)': [round(np.irr(df['cashflow']),4)*100]}"
   ]
  },
  {
   "cell_type": "code",
   "execution_count": 19,
   "metadata": {},
   "outputs": [],
   "source": [
    "summary['Payout (yrs)'] = df[df['cum_pv'] > 0].index[0]"
   ]
  },
  {
   "cell_type": "code",
   "execution_count": 20,
   "metadata": {},
   "outputs": [
    {
     "data": {
      "text/html": [
       "<div>\n",
       "<style scoped>\n",
       "    .dataframe tbody tr th:only-of-type {\n",
       "        vertical-align: middle;\n",
       "    }\n",
       "\n",
       "    .dataframe tbody tr th {\n",
       "        vertical-align: top;\n",
       "    }\n",
       "\n",
       "    .dataframe thead th {\n",
       "        text-align: right;\n",
       "    }\n",
       "</style>\n",
       "<table border=\"1\" class=\"dataframe\">\n",
       "  <thead>\n",
       "    <tr style=\"text-align: right;\">\n",
       "      <th></th>\n",
       "      <th>net cashflow (MMUSD)</th>\n",
       "      <th>npv (MMUSD)</th>\n",
       "      <th>irr(%)</th>\n",
       "      <th>Payout (yrs)</th>\n",
       "    </tr>\n",
       "  </thead>\n",
       "  <tbody>\n",
       "    <tr>\n",
       "      <th>0</th>\n",
       "      <td>12.464967</td>\n",
       "      <td>2.074171</td>\n",
       "      <td>12.63</td>\n",
       "      <td>5</td>\n",
       "    </tr>\n",
       "  </tbody>\n",
       "</table>\n",
       "</div>"
      ],
      "text/plain": [
       "   net cashflow (MMUSD)  npv (MMUSD)  irr(%)  Payout (yrs)\n",
       "0             12.464967     2.074171   12.63             5"
      ]
     },
     "execution_count": 20,
     "metadata": {},
     "output_type": "execute_result"
    }
   ],
   "source": [
    "df_s = pd.DataFrame(summary)\n",
    "df_s.head()"
   ]
  },
  {
   "cell_type": "code",
   "execution_count": null,
   "metadata": {},
   "outputs": [],
   "source": []
  },
  {
   "cell_type": "code",
   "execution_count": null,
   "metadata": {},
   "outputs": [],
   "source": []
  },
  {
   "cell_type": "code",
   "execution_count": 29,
   "metadata": {},
   "outputs": [
    {
     "data": {
      "image/png": "[encoded data removed]",
      "text/plain": [
       "<Figure size 432x288 with 2 Axes>"
      ]
     },
     "metadata": {
      "needs_background": "light"
     },
     "output_type": "display_data"
    }
   ],
   "source": [
    "fig, ax1 = plt.subplots()\n",
    "\n",
    "ax2 = ax1.twinx()\n",
    "ax1.plot(df['year'], df['present_value']/1000000, 'g-')\n",
    "ax2.plot(df['year'], df['cum_pv']/1000000, 'b-')\n",
    "\n",
    "ax1.set_xlabel('X data')\n",
    "ax1.set_ylabel('present value', color='g')\n",
    "ax2.set_ylabel('cumulative cashflow', color='b')\n",
    "\n",
    "plt.show()"
   ]
  },
  {
   "cell_type": "code",
   "execution_count": 31,
   "metadata": {},
   "outputs": [],
   "source": [
    "# range\n",
    "ax1_range = ax1.get_ylim()[1] - ax1.get_ylim()[0]\n",
    "fct = (0 - ax1.get_ylim()[0])/ax1_range\n",
    "\n",
    "ax2_ylim = ax2.get_ylim()\n",
    "# calculate new values for the second axis\n",
    "ax2_ylim_new = (ax2_ylim[0],(0 - ax2_ylim[0]) / fct + ax2_ylim[0])\n",
    "# set new limits\n",
    "ax2.set_ylim( ax2_ylim_new )\n",
    "\n",
    "plt.show()"
   ]
  },
  {
   "cell_type": "code",
   "execution_count": 22,
   "metadata": {},
   "outputs": [
    {
     "data": {
      "text/html": [
       "<div>\n",
       "<style scoped>\n",
       "    .dataframe tbody tr th:only-of-type {\n",
       "        vertical-align: middle;\n",
       "    }\n",
       "\n",
       "    .dataframe tbody tr th {\n",
       "        vertical-align: top;\n",
       "    }\n",
       "\n",
       "    .dataframe thead th {\n",
       "        text-align: right;\n",
       "    }\n",
       "</style>\n",
       "<table border=\"1\" class=\"dataframe\">\n",
       "  <thead>\n",
       "    <tr style=\"text-align: right;\">\n",
       "      <th></th>\n",
       "      <th>year</th>\n",
       "      <th>year_n</th>\n",
       "      <th>inflation_factor</th>\n",
       "      <th>revenue</th>\n",
       "      <th>investment</th>\n",
       "      <th>operational</th>\n",
       "      <th>cashflow</th>\n",
       "      <th>cum_cashflow</th>\n",
       "      <th>discount_factor</th>\n",
       "      <th>present_value</th>\n",
       "      <th>cum_pv</th>\n",
       "    </tr>\n",
       "  </thead>\n",
       "  <tbody>\n",
       "    <tr>\n",
       "      <th>0</th>\n",
       "      <td>2020</td>\n",
       "      <td>0</td>\n",
       "      <td>1.000000</td>\n",
       "      <td>0.000000e+00</td>\n",
       "      <td>30000000</td>\n",
       "      <td>0.000000e+00</td>\n",
       "      <td>-30000000</td>\n",
       "      <td>-30000000</td>\n",
       "      <td>1.000000</td>\n",
       "      <td>-30000000</td>\n",
       "      <td>-30000000</td>\n",
       "    </tr>\n",
       "    <tr>\n",
       "      <th>1</th>\n",
       "      <td>2021</td>\n",
       "      <td>1</td>\n",
       "      <td>1.020000</td>\n",
       "      <td>1.020000e+07</td>\n",
       "      <td>0</td>\n",
       "      <td>2.040000e+06</td>\n",
       "      <td>8160000</td>\n",
       "      <td>-21840000</td>\n",
       "      <td>0.909091</td>\n",
       "      <td>7418181</td>\n",
       "      <td>-22581819</td>\n",
       "    </tr>\n",
       "    <tr>\n",
       "      <th>2</th>\n",
       "      <td>2022</td>\n",
       "      <td>2</td>\n",
       "      <td>1.040400</td>\n",
       "      <td>1.040400e+07</td>\n",
       "      <td>0</td>\n",
       "      <td>2.080800e+06</td>\n",
       "      <td>8323200</td>\n",
       "      <td>-13516800</td>\n",
       "      <td>0.826446</td>\n",
       "      <td>6878677</td>\n",
       "      <td>-15703142</td>\n",
       "    </tr>\n",
       "    <tr>\n",
       "      <th>3</th>\n",
       "      <td>2023</td>\n",
       "      <td>3</td>\n",
       "      <td>1.061208</td>\n",
       "      <td>1.061208e+07</td>\n",
       "      <td>0</td>\n",
       "      <td>2.122416e+06</td>\n",
       "      <td>8489664</td>\n",
       "      <td>-5027136</td>\n",
       "      <td>0.751315</td>\n",
       "      <td>6378410</td>\n",
       "      <td>-9324732</td>\n",
       "    </tr>\n",
       "    <tr>\n",
       "      <th>4</th>\n",
       "      <td>2024</td>\n",
       "      <td>4</td>\n",
       "      <td>1.082432</td>\n",
       "      <td>1.082432e+07</td>\n",
       "      <td>0</td>\n",
       "      <td>2.164864e+06</td>\n",
       "      <td>8659457</td>\n",
       "      <td>3632321</td>\n",
       "      <td>0.683013</td>\n",
       "      <td>5914525</td>\n",
       "      <td>-3410207</td>\n",
       "    </tr>\n",
       "    <tr>\n",
       "      <th>5</th>\n",
       "      <td>2025</td>\n",
       "      <td>5</td>\n",
       "      <td>1.104081</td>\n",
       "      <td>1.104081e+07</td>\n",
       "      <td>0</td>\n",
       "      <td>2.208162e+06</td>\n",
       "      <td>8832646</td>\n",
       "      <td>12464967</td>\n",
       "      <td>0.620921</td>\n",
       "      <td>5484378</td>\n",
       "      <td>2074171</td>\n",
       "    </tr>\n",
       "  </tbody>\n",
       "</table>\n",
       "</div>"
      ],
      "text/plain": [
       "   year  year_n  inflation_factor       revenue  investment   operational  \\\n",
       "0  2020       0          1.000000  0.000000e+00    30000000  0.000000e+00   \n",
       "1  2021       1          1.020000  1.020000e+07           0  2.040000e+06   \n",
       "2  2022       2          1.040400  1.040400e+07           0  2.080800e+06   \n",
       "3  2023       3          1.061208  1.061208e+07           0  2.122416e+06   \n",
       "4  2024       4          1.082432  1.082432e+07           0  2.164864e+06   \n",
       "5  2025       5          1.104081  1.104081e+07           0  2.208162e+06   \n",
       "\n",
       "   cashflow  cum_cashflow  discount_factor  present_value    cum_pv  \n",
       "0 -30000000     -30000000         1.000000      -30000000 -30000000  \n",
       "1   8160000     -21840000         0.909091        7418181 -22581819  \n",
       "2   8323200     -13516800         0.826446        6878677 -15703142  \n",
       "3   8489664      -5027136         0.751315        6378410  -9324732  \n",
       "4   8659457       3632321         0.683013        5914525  -3410207  \n",
       "5   8832646      12464967         0.620921        5484378   2074171  "
      ]
     },
     "execution_count": 22,
     "metadata": {},
     "output_type": "execute_result"
    }
   ],
   "source": [
    "df"
   ]
  },
  {
   "cell_type": "code",
   "execution_count": 23,
   "metadata": {},
   "outputs": [
    {
     "ename": "SyntaxError",
     "evalue": "invalid syntax (<ipython-input-23-ef5505f8296d>, line 1)",
     "output_type": "error",
     "traceback": [
      "\u001b[1;36m  File \u001b[1;32m\"<ipython-input-23-ef5505f8296d>\"\u001b[1;36m, line \u001b[1;32m1\u001b[0m\n\u001b[1;33m    pip install ipywidgets\u001b[0m\n\u001b[1;37m              ^\u001b[0m\n\u001b[1;31mSyntaxError\u001b[0m\u001b[1;31m:\u001b[0m invalid syntax\n"
     ]
    }
   ],
   "source": [
    "pip install ipywidgets\n",
    "jupyter nbextension enable --py widgetsnbextension"
   ]
  },
  {
   "cell_type": "code",
   "execution_count": null,
   "metadata": {},
   "outputs": [],
   "source": [
    "import ipywidgets as widgets\n",
    "from IPython.display import display"
   ]
  },
  {
   "cell_type": "code",
   "execution_count": null,
   "metadata": {},
   "outputs": [],
   "source": []
  },
  {
   "cell_type": "code",
   "execution_count": null,
   "metadata": {},
   "outputs": [],
   "source": [
    "oil_price = widgets.IntSlider(description = 'Oil price: ')\n",
    "display(oil_price)"
   ]
  },
  {
   "cell_type": "code",
   "execution_count": null,
   "metadata": {},
   "outputs": [],
   "source": []
  }
 ],
 "metadata": {
  "kernelspec": {
   "display_name": "Python 3",
   "language": "python",
   "name": "python3"
  },
  "language_info": {
   "codemirror_mode": {
    "name": "ipython",
    "version": 3
   },
   "file_extension": ".py",
   "mimetype": "text/x-python",
   "name": "python",
   "nbconvert_exporter": "python",
   "pygments_lexer": "ipython3",
   "version": "3.7.6"
  }
 },
 "nbformat": 4,
 "nbformat_minor": 4
}
