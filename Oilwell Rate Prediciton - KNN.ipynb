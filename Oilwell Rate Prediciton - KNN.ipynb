{
 "cells": [
  {
   "cell_type": "code",
   "execution_count": 3,
   "metadata": {},
   "outputs": [],
   "source": [
    "#Importing modules\n",
    "from sklearn import datasets\n",
    "\n",
    "import pandas as pd\n",
    "import numpy as np\n",
    "import matplotlib.pyplot as plt"
   ]
  },
  {
   "cell_type": "code",
   "execution_count": 35,
   "metadata": {},
   "outputs": [],
   "source": [
    "#import data\n",
    "well = pd.read_csv('https://raw.githubusercontent.com/iqbalridalta/oilrate/main/Well0%20-%20Test.csv')"
   ]
  },
  {
   "cell_type": "code",
   "execution_count": 36,
   "metadata": {},
   "outputs": [
    {
     "data": {
      "text/html": [
       "<div>\n",
       "<style scoped>\n",
       "    .dataframe tbody tr th:only-of-type {\n",
       "        vertical-align: middle;\n",
       "    }\n",
       "\n",
       "    .dataframe tbody tr th {\n",
       "        vertical-align: top;\n",
       "    }\n",
       "\n",
       "    .dataframe thead th {\n",
       "        text-align: right;\n",
       "    }\n",
       "</style>\n",
       "<table border=\"1\" class=\"dataframe\">\n",
       "  <thead>\n",
       "    <tr style=\"text-align: right;\">\n",
       "      <th></th>\n",
       "      <th>well</th>\n",
       "      <th>zone</th>\n",
       "      <th>top_perfo</th>\n",
       "      <th>bot_perfo</th>\n",
       "      <th>h(m)</th>\n",
       "      <th>porosity</th>\n",
       "      <th>permeability</th>\n",
       "      <th>sw</th>\n",
       "      <th>actual_rate</th>\n",
       "    </tr>\n",
       "  </thead>\n",
       "  <tbody>\n",
       "    <tr>\n",
       "      <th>0</th>\n",
       "      <td>A11</td>\n",
       "      <td>PHO-143</td>\n",
       "      <td>861.0</td>\n",
       "      <td>865.0</td>\n",
       "      <td>4.0</td>\n",
       "      <td>0.148</td>\n",
       "      <td>33.00</td>\n",
       "      <td>63.0</td>\n",
       "      <td>250.0</td>\n",
       "    </tr>\n",
       "    <tr>\n",
       "      <th>1</th>\n",
       "      <td>A12</td>\n",
       "      <td>PHO-143</td>\n",
       "      <td>888.5</td>\n",
       "      <td>892.0</td>\n",
       "      <td>3.5</td>\n",
       "      <td>0.190</td>\n",
       "      <td>27.90</td>\n",
       "      <td>57.8</td>\n",
       "      <td>250.0</td>\n",
       "    </tr>\n",
       "    <tr>\n",
       "      <th>2</th>\n",
       "      <td>B11</td>\n",
       "      <td>D-5b</td>\n",
       "      <td>695.0</td>\n",
       "      <td>698.0</td>\n",
       "      <td>3.0</td>\n",
       "      <td>0.140</td>\n",
       "      <td>5.22</td>\n",
       "      <td>46.0</td>\n",
       "      <td>NaN</td>\n",
       "    </tr>\n",
       "    <tr>\n",
       "      <th>3</th>\n",
       "      <td>B11</td>\n",
       "      <td>C-O33</td>\n",
       "      <td>534.0</td>\n",
       "      <td>536.0</td>\n",
       "      <td>2.0</td>\n",
       "      <td>0.240</td>\n",
       "      <td>172.95</td>\n",
       "      <td>39.0</td>\n",
       "      <td>187.0</td>\n",
       "    </tr>\n",
       "    <tr>\n",
       "      <th>4</th>\n",
       "      <td>B12</td>\n",
       "      <td>D-O5</td>\n",
       "      <td>674.0</td>\n",
       "      <td>682.0</td>\n",
       "      <td>8.0</td>\n",
       "      <td>0.230</td>\n",
       "      <td>96.60</td>\n",
       "      <td>32.0</td>\n",
       "      <td>200.0</td>\n",
       "    </tr>\n",
       "  </tbody>\n",
       "</table>\n",
       "</div>"
      ],
      "text/plain": [
       "  well     zone  top_perfo  bot_perfo  h(m)  porosity  permeability    sw  \\\n",
       "0  A11  PHO-143      861.0      865.0   4.0     0.148         33.00  63.0   \n",
       "1  A12  PHO-143      888.5      892.0   3.5     0.190         27.90  57.8   \n",
       "2  B11     D-5b      695.0      698.0   3.0     0.140          5.22  46.0   \n",
       "3  B11    C-O33      534.0      536.0   2.0     0.240        172.95  39.0   \n",
       "4  B12     D-O5      674.0      682.0   8.0     0.230         96.60  32.0   \n",
       "\n",
       "   actual_rate  \n",
       "0        250.0  \n",
       "1        250.0  \n",
       "2          NaN  \n",
       "3        187.0  \n",
       "4        200.0  "
      ]
     },
     "execution_count": 36,
     "metadata": {},
     "output_type": "execute_result"
    }
   ],
   "source": [
    "#see the data in 5 row\n",
    "well.head()"
   ]
  },
  {
   "cell_type": "code",
   "execution_count": 7,
   "metadata": {},
   "outputs": [
    {
     "data": {
      "text/plain": [
       "pandas.core.frame.DataFrame"
      ]
     },
     "execution_count": 7,
     "metadata": {},
     "output_type": "execute_result"
    }
   ],
   "source": [
    "type(well)"
   ]
  },
  {
   "cell_type": "code",
   "execution_count": 8,
   "metadata": {},
   "outputs": [
    {
     "name": "stdout",
     "output_type": "stream",
     "text": [
      "['bmh', 'classic', 'dark_background', 'fast', 'fivethirtyeight', 'ggplot', 'grayscale', 'seaborn-bright', 'seaborn-colorblind', 'seaborn-dark-palette', 'seaborn-dark', 'seaborn-darkgrid', 'seaborn-deep', 'seaborn-muted', 'seaborn-notebook', 'seaborn-paper', 'seaborn-pastel', 'seaborn-poster', 'seaborn-talk', 'seaborn-ticks', 'seaborn-white', 'seaborn-whitegrid', 'seaborn', 'Solarize_Light2', 'tableau-colorblind10', '_classic_test']\n"
     ]
    }
   ],
   "source": [
    "print(plt.style.available)\n",
    "plt.style.use('ggplot')"
   ]
  },
  {
   "cell_type": "code",
   "execution_count": 9,
   "metadata": {},
   "outputs": [
    {
     "name": "stdout",
     "output_type": "stream",
     "text": [
      "<class 'pandas.core.frame.DataFrame'>\n",
      "RangeIndex: 41 entries, 0 to 40\n",
      "Data columns (total 9 columns):\n",
      "well            41 non-null object\n",
      "zone            41 non-null object\n",
      "top_perfo       41 non-null float64\n",
      "bot_perfo       41 non-null float64\n",
      "h(m)            40 non-null float64\n",
      "porosity        41 non-null float64\n",
      "permeability    41 non-null float64\n",
      "sw              41 non-null float64\n",
      "actual_rate     32 non-null float64\n",
      "dtypes: float64(7), object(2)\n",
      "memory usage: 3.0+ KB\n"
     ]
    }
   ],
   "source": [
    "well.info()"
   ]
  },
  {
   "cell_type": "code",
   "execution_count": 22,
   "metadata": {},
   "outputs": [],
   "source": [
    "well_origin = pd.get_dummies(well)"
   ]
  },
  {
   "cell_type": "code",
   "execution_count": 37,
   "metadata": {},
   "outputs": [
    {
     "name": "stdout",
     "output_type": "stream",
     "text": [
      "well            0\n",
      "zone            0\n",
      "top_perfo       0\n",
      "bot_perfo       0\n",
      "h(m)            1\n",
      "porosity        0\n",
      "permeability    0\n",
      "sw              0\n",
      "actual_rate     9\n",
      "dtype: int64\n",
      "   well zone  top_perfo  bot_perfo  h(m)  porosity  permeability    sw  \\\n",
      "40  G11   G1      342.0      357.0   NaN      0.29         196.0  41.0   \n",
      "\n",
      "    actual_rate  \n",
      "40         24.0  \n",
      "   well   zone  top_perfo  bot_perfo  h(m)  porosity  permeability    sw  \\\n",
      "2   B11   D-5b      695.0      698.0   3.0     0.140          5.22  46.0   \n",
      "6   B14  D-Olb      829.0      833.0   4.0     0.210         40.00  74.0   \n",
      "8   B16  D-Olb      833.0      837.0   4.0     0.210         40.00  74.0   \n",
      "9   B17  D-053      877.0      880.0   3.0     0.169          3.78  63.2   \n",
      "12  C10   D-06      678.0      681.0   3.0     0.190         14.00  60.0   \n",
      "13  C10   D-19     1157.0     1164.0   7.0     0.240        200.00  50.0   \n",
      "17  C13   D-14     1154.0     1163.0   9.0     0.150          5.00  92.0   \n",
      "26  D16  C-O33     1133.0     1136.0   3.0     0.273        406.00  21.0   \n",
      "33  E12  DL-26     1631.0     1634.0   3.0     0.180         25.00  75.0   \n",
      "\n",
      "    actual_rate  \n",
      "2           NaN  \n",
      "6           NaN  \n",
      "8           NaN  \n",
      "9           NaN  \n",
      "12          NaN  \n",
      "13          NaN  \n",
      "17          NaN  \n",
      "26          NaN  \n",
      "33          NaN  \n"
     ]
    }
   ],
   "source": [
    "#checkout missing value\n",
    "print(well.isnull().sum())\n",
    "print(well[well['h(m)'].isnull()])\n",
    "print(well[well['actual_rate'].isnull()])"
   ]
  },
  {
   "cell_type": "code",
   "execution_count": 38,
   "metadata": {},
   "outputs": [],
   "source": [
    "#imputing data with mean method\n",
    "from sklearn.impute import SimpleImputer\n",
    "numeric_columns = well.select_dtypes(include='number').columns\n",
    "imp = SimpleImputer (missing_values = np.nan, strategy = 'mean')\n",
    "well[numeric_columns] = pd.DataFrame(imp.fit_transform(well[numeric_columns]), columns=numeric_columns)"
   ]
  },
  {
   "cell_type": "code",
   "execution_count": 39,
   "metadata": {},
   "outputs": [
    {
     "name": "stdout",
     "output_type": "stream",
     "text": [
      "   well     zone  top_perfo  bot_perfo     h(m)  porosity  permeability    sw  \\\n",
      "0   A11  PHO-143      861.0      865.0   4.0000     0.148         33.00  63.0   \n",
      "1   A12  PHO-143      888.5      892.0   3.5000     0.190         27.90  57.8   \n",
      "2   B11     D-5b      695.0      698.0   3.0000     0.140          5.22  46.0   \n",
      "3   B11    C-O33      534.0      536.0   2.0000     0.240        172.95  39.0   \n",
      "4   B12     D-O5      674.0      682.0   8.0000     0.230         96.60  32.0   \n",
      "5   B13     C-Ol      485.0      487.0   2.0000     0.280        100.00  80.0   \n",
      "6   B14    D-Olb      829.0      833.0   4.0000     0.210         40.00  74.0   \n",
      "7   B15    D-04c      920.0      924.0   4.0000     0.172         20.00  73.0   \n",
      "8   B16    D-Olb      833.0      837.0   4.0000     0.210         40.00  74.0   \n",
      "9   B17    D-053      877.0      880.0   3.0000     0.169          3.78  63.2   \n",
      "10  B18     D-OS      942.0      950.0   8.0000     0.206         30.80  53.0   \n",
      "11  C10     D-09      829.0      833.0   4.0000     0.130         11.00  58.0   \n",
      "12  C10     D-06      678.0      681.0   3.0000     0.190         14.00  60.0   \n",
      "13  C10     D-19     1157.0     1164.0   7.0000     0.240        200.00  50.0   \n",
      "14  C11     D-OS      810.0      813.5   3.5000     0.230         80.00  55.0   \n",
      "15  C12     D-04      650.0      660.0  10.0000     0.230        200.00  42.0   \n",
      "16  C13     D-ll      982.0      990.0   8.0000     0.140          6.00  65.0   \n",
      "17  C13     D-14     1154.0     1163.0   9.0000     0.150          5.00  92.0   \n",
      "18  C14     D-ll      922.0      927.0   5.0000     0.240         30.00  50.0   \n",
      "19  C15     D-13     1045.5     1050.0   4.5000     0.180         10.00  65.0   \n",
      "20  D10     A-25      707.0      717.0  10.0000     0.380        155.00  40.0   \n",
      "21  D11     A-25      707.0      710.0   3.0000     0.290         39.50  98.0   \n",
      "22  D12    C-O3b     1245.5     1252.5   7.0000     0.260        100.10  49.0   \n",
      "23  D13    C-O33     1179.5     1183.5   4.0000     0.180         35.00  50.0   \n",
      "24  D14    C-O33     1177.0     1181.0   4.0000     0.270        180.00  58.0   \n",
      "25  D15     E-06      906.5      908.5   2.0000     0.210         71.00  70.0   \n",
      "26  D16    C-O33     1133.0     1136.0   3.0000     0.273        406.00  21.0   \n",
      "27  D17     D-1O     1549.0     1553.0   4.0000     0.181         16.60  63.0   \n",
      "28  D18    C-O3b     1245.0     1249.0   4.0000     0.249        210.00  65.0   \n",
      "29  D19    C-O33     1126.0     1128.0   2.0000     0.250         90.00  60.0   \n",
      "30  D20     E-45     1339.0     1340.5   1.5000     0.150         16.00  68.0   \n",
      "31  E10    DL-14     1376.0     1387.0  11.0000     0.200         50.00  50.0   \n",
      "32  E11    DL-30     1696.5     1699.5   3.0000     0.120         12.00  60.0   \n",
      "33  E12    DL-26     1631.0     1634.0   3.0000     0.180         25.00  75.0   \n",
      "34  E13    DL-15     1312.0     1317.0   5.0000     0.170         25.00  50.0   \n",
      "35  E14    DL-12     1139.0     1145.0   6.0000     0.200         28.00  30.0   \n",
      "36  E15    DL-14     1283.0     1289.0   6.0000     0.130          9.70  52.0   \n",
      "37  E16    DL-1S     1407.0     1412.0   5.0000     0.100          2.00  66.0   \n",
      "38  F10   PHO-15      990.0      993.0   3.0000     0.188         37.00  69.0   \n",
      "39  G10      Q-6     1294.3     1295.6   1.3000     0.240        108.00  32.0   \n",
      "40  G11       G1      342.0      357.0   4.6825     0.290        196.00  41.0   \n",
      "\n",
      "    actual_rate  \n",
      "0        250.00  \n",
      "1        250.00  \n",
      "2        211.25  \n",
      "3        187.00  \n",
      "4        200.00  \n",
      "5        200.00  \n",
      "6        211.25  \n",
      "7        250.00  \n",
      "8        211.25  \n",
      "9        211.25  \n",
      "10       250.00  \n",
      "11       250.00  \n",
      "12       211.25  \n",
      "13       211.25  \n",
      "14       250.00  \n",
      "15       250.00  \n",
      "16       250.00  \n",
      "17       211.25  \n",
      "18       250.00  \n",
      "19       250.00  \n",
      "20       350.00  \n",
      "21       350.00  \n",
      "22       200.00  \n",
      "23       200.00  \n",
      "24       300.00  \n",
      "25       150.00  \n",
      "26       211.25  \n",
      "27       350.00  \n",
      "28       350.00  \n",
      "29       300.00  \n",
      "30        82.00  \n",
      "31       200.00  \n",
      "32       200.00  \n",
      "33       211.25  \n",
      "34       200.00  \n",
      "35       200.00  \n",
      "36         0.00  \n",
      "37         0.00  \n",
      "38       150.00  \n",
      "39        67.00  \n",
      "40        24.00  \n"
     ]
    }
   ],
   "source": [
    "print(well)"
   ]
  },
  {
   "cell_type": "code",
   "execution_count": 40,
   "metadata": {},
   "outputs": [],
   "source": [
    "#importing data for KNN\n",
    "X = well.drop(well.columns[[0,1,2,3,8]], axis = 1).values\n",
    "y = well['actual_rate'].values"
   ]
  },
  {
   "cell_type": "code",
   "execution_count": 11,
   "metadata": {},
   "outputs": [],
   "source": [
    "#X_train = well.drop(well.columns[[0,1,2,3,8,9]], axis = 1).values\n",
    "#y_train = well['actual_rate'].values\n",
    "#X_test = well.drop(well.columns[[0,1,2,3,8,9]], axis = 1).values\n",
    "#y_test = well['actual_rate'].values"
   ]
  },
  {
   "cell_type": "code",
   "execution_count": 41,
   "metadata": {},
   "outputs": [
    {
     "name": "stdout",
     "output_type": "stream",
     "text": [
      "[[4.0000e+00 2.7000e-01 1.8000e+02 5.8000e+01]\n",
      " [7.0000e+00 2.4000e-01 2.0000e+02 5.0000e+01]\n",
      " [4.0000e+00 2.1000e-01 4.0000e+01 7.4000e+01]\n",
      " [2.0000e+00 2.1000e-01 7.1000e+01 7.0000e+01]\n",
      " [8.0000e+00 2.3000e-01 9.6600e+01 3.2000e+01]\n",
      " [4.6825e+00 2.9000e-01 1.9600e+02 4.1000e+01]\n",
      " [4.5000e+00 1.8000e-01 1.0000e+01 6.5000e+01]\n",
      " [1.3000e+00 2.4000e-01 1.0800e+02 3.2000e+01]\n",
      " [2.0000e+00 2.5000e-01 9.0000e+01 6.0000e+01]\n",
      " [4.0000e+00 2.1000e-01 4.0000e+01 7.4000e+01]\n",
      " [3.0000e+00 2.7300e-01 4.0600e+02 2.1000e+01]\n",
      " [3.0000e+00 1.9000e-01 1.4000e+01 6.0000e+01]\n",
      " [9.0000e+00 1.5000e-01 5.0000e+00 9.2000e+01]]\n",
      "[187. 250. 150. 250. 200. 250. 250. 200. 250. 150. 350. 200. 250.]\n",
      "97.63289759250051\n"
     ]
    }
   ],
   "source": [
    "#initialize knn, train_test_split and mean_squared error\n",
    "\n",
    "from sklearn.model_selection import train_test_split\n",
    "from sklearn import neighbors\n",
    "from sklearn.metrics import mean_squared_error\n",
    "\n",
    "X_train, X_test, y_train, y_test = train_test_split (X, y, test_size = 0.3, random_state = 42)\n",
    "\n",
    "knn = neighbors.KNeighborsRegressor(n_neighbors = 1)\n",
    "knn.fit(X_train, y_train)\n",
    "y_pred = knn.predict(X_test)\n",
    "\n",
    "print(X_test)\n",
    "print(y_pred)\n",
    "print(np.sqrt(mean_squared_error(y_test, y_pred)))"
   ]
  },
  {
   "cell_type": "code",
   "execution_count": 43,
   "metadata": {},
   "outputs": [
    {
     "data": {
      "image/png": "[encoded data removed]",
      "text/plain": [
       "<Figure size 432x288 with 2 Axes>"
      ]
     },
     "metadata": {},
     "output_type": "display_data"
    }
   ],
   "source": [
    "#determining optimum k\n",
    "\n",
    "k_numbers = np.arange(1,20)\n",
    "train_accuracy = np.empty (len(k_numbers))\n",
    "test_accuracy = np.empty(len(k_numbers))\n",
    "rsme = np.empty(len(k_numbers))\n",
    "\n",
    "for i, k in enumerate (k_numbers):\n",
    "    \n",
    "    knn_test = neighbors.KNeighborsRegressor(n_neighbors = k)\n",
    "    \n",
    "    knn_test.fit(X_train, y_train)\n",
    "    y_pred = knn_test.predict(X_test)\n",
    "    \n",
    "    train_accuracy[i] = knn_test.score(X_train, y_train)\n",
    "    test_accuracy[i] = knn_test.score(X_test, y_test)\n",
    "    rsme[i] = np.sqrt(mean_squared_error(y_test, y_pred))\n",
    "\n",
    "fig, ax1 = plt.subplots()\n",
    "\n",
    "ax2 = ax1.twinx()\n",
    "l1, =ax1.plot(k_numbers, train_accuracy, 'g-')\n",
    "l2, =ax1.plot(k_numbers, test_accuracy, 'r-')\n",
    "l3, =ax2.plot(k_numbers, rsme , 'b-')\n",
    "\n",
    "ax1.set_xlabel('K numbers')\n",
    "ax1.set_ylabel('Train/Train Accuracy', color='g')\n",
    "ax2.set_ylabel('RSME', color='b')\n",
    "\n",
    "ax1.legend((l1, l2, l3), ('train accuracy', 'tested accuracy', 'RSME'), loc='upper right')\n",
    "\n",
    "plt.show()"
   ]
  },
  {
   "cell_type": "code",
   "execution_count": 44,
   "metadata": {},
   "outputs": [
    {
     "data": {
      "image/png": "[encoded data removed]",
      "text/plain": [
       "<Figure size 432x288 with 1 Axes>"
      ]
     },
     "metadata": {},
     "output_type": "display_data"
    }
   ],
   "source": [
    "#analyzing optimum k\n",
    "\n",
    "k_numbers = np.arange(1,9)\n",
    "train_accuracy = np.empty (len(k_numbers))\n",
    "test_accuracy = np.empty(len(k_numbers))\n",
    "rsme = np.empty(len(k_numbers))\n",
    "\n",
    "for i, k in enumerate (k_numbers):\n",
    "    \n",
    "    knn_test = neighbors.KNeighborsRegressor(n_neighbors = k)\n",
    "    \n",
    "    knn_test.fit(X_train, y_train)\n",
    "    y_pred = knn_test.predict(X_test)\n",
    "    \n",
    "    train_accuracy[i] = knn_test.score(X_train, y_train)\n",
    "    test_accuracy[i] = knn_test.score(X_test, y_test)\n",
    "    rsme[i] = np.sqrt(mean_squared_error(y_test, y_pred))\n",
    "    \n",
    "plt.title ('k-NN: Varying number of neighbors')\n",
    "plt.plot(k_numbers, test_accuracy, label = 'Testing Accuracy')\n",
    "plt.plot(k_numbers, train_accuracy, label = 'Training Accuracy')\n",
    "\n",
    "plt.legend()\n",
    "plt.xlabel('number of neighbors')\n",
    "plt.ylabel('accuracy')\n",
    "           \n",
    "plt.show()"
   ]
  },
  {
   "cell_type": "code",
   "execution_count": 55,
   "metadata": {},
   "outputs": [
    {
     "name": "stdout",
     "output_type": "stream",
     "text": [
      "54.97635300967046\n"
     ]
    }
   ],
   "source": [
    "#apply model to the entire dataset\n",
    "from sklearn.metrics import mean_squared_error\n",
    "\n",
    "knn.fit(X_train, y_train)\n",
    "y_pred = knn.predict(X)\n",
    "rsme = mean_squared_error(y, y_pred)\n",
    "pred = pd.DataFrame(y_pred)\n",
    "pred.columns = ['prediction rate']\n",
    "df = pd.concat([well, pred], axis = 1)\n",
    "df.to_csv('prediction_basic.csv')\n",
    "print(mean_squared_error(y, y_pred)**0.5)"
   ]
  },
  {
   "cell_type": "code",
   "execution_count": 45,
   "metadata": {},
   "outputs": [
    {
     "name": "stdout",
     "output_type": "stream",
     "text": [
      "[-23.51337575 -69.46586472  -1.64405273  -0.26032585  -2.03165739]\n",
      "-19.383055289103027\n"
     ]
    }
   ],
   "source": [
    "#cross val\n",
    "from sklearn.model_selection import cross_val_score\n",
    "\n",
    "cv_results = cross_val_score(knn, X, y, cv=5)\n",
    "print(cv_results)\n",
    "print(np.mean(cv_results))"
   ]
  },
  {
   "cell_type": "code",
   "execution_count": 31,
   "metadata": {},
   "outputs": [
    {
     "name": "stdout",
     "output_type": "stream",
     "text": [
      "{'n_neighbors': 26}\n",
      "-1.156789189465751\n"
     ]
    }
   ],
   "source": [
    "from sklearn.model_selection import GridSearchCV\n",
    "\n",
    "params = {'n_neighbors': np.arange(1, 30)}\n",
    "knn = neighbors.KNeighborsRegressor()\n",
    "\n",
    "knn_cv = GridSearchCV(knn, params, cv=5)\n",
    "knn_cv.fit(X, y)\n",
    "knn_cv.best_params_\n",
    "print(knn_cv.best_params_)\n",
    "knn_cv.best_score_\n",
    "print(knn_cv.best_score_)"
   ]
  },
  {
   "cell_type": "code",
   "execution_count": 32,
   "metadata": {},
   "outputs": [
    {
     "name": "stdout",
     "output_type": "stream",
     "text": [
      "[205.19117647 211.07352941 213.11764706 225.5        214.73529412\n",
      " 228.72058824 224.13235294 208.79411765 222.83823529]\n"
     ]
    }
   ],
   "source": [
    "from sklearn.pipeline import Pipeline\n",
    "from sklearn.preprocessing import StandardScaler\n",
    "\n",
    "steps = [('scaler', StandardScaler()),('knn', neighbors.KNeighborsRegressor())]\n",
    "                                       \n",
    "pipeline = Pipeline(steps)\n",
    "                                       \n",
    "parameters = {'knn__n_neighbors': np.arange(1, 25)}\n",
    "                                       \n",
    "X_train, X_test, y_train, y_test = train_test_split(X, y,test_size=0.2, random_state=21)\n",
    "                                       \n",
    "cv = GridSearchCV(pipeline, param_grid=parameters)\n",
    "                                       \n",
    "cv.fit(X_train, y_train)\n",
    "                                       \n",
    "y_pred = cv.predict(X_test)\n",
    "\n",
    "print(y_pred)"
   ]
  },
  {
   "cell_type": "code",
   "execution_count": 33,
   "metadata": {},
   "outputs": [],
   "source": [
    "y_pred2 = cv.predict(X)\n",
    "pred = pd.DataFrame(y_pred)\n",
    "pred.columns = ['prediction rate']\n",
    "df = pd.concat([well, pred], axis = 1)\n",
    "df.to_csv('prediction_basic.csv')\n",
    "print(mean_squared_error(y, y_pred)**0.5)"
   ]
  },
  {
   "cell_type": "code",
   "execution_count": 46,
   "metadata": {},
   "outputs": [],
   "source": [
    "df1 = pd.DataFrame(y)\n",
    "df1.to_clipboard(index = False, header = False)"
   ]
  },
  {
   "cell_type": "code",
   "execution_count": null,
   "metadata": {},
   "outputs": [],
   "source": []
  },
  {
   "cell_type": "code",
   "execution_count": null,
   "metadata": {},
   "outputs": [],
   "source": []
  }
 ],
 "metadata": {
  "kernelspec": {
   "display_name": "Python 3",
   "language": "python",
   "name": "python3"
  },
  "language_info": {
   "codemirror_mode": {
    "name": "ipython",
    "version": 3
   },
   "file_extension": ".py",
   "mimetype": "text/x-python",
   "name": "python",
   "nbconvert_exporter": "python",
   "pygments_lexer": "ipython3",
   "version": "3.7.6"
  }
 },
 "nbformat": 4,
 "nbformat_minor": 4
}
