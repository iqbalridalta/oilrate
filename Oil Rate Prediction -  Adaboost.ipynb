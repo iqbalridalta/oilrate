{
 "cells": [
  {
   "cell_type": "code",
   "execution_count": 3,
   "metadata": {},
   "outputs": [],
   "source": [
    "import pandas as pd\n",
    "import numpy as np\n",
    "import matplotlib.pyplot as plt"
   ]
  },
  {
   "cell_type": "code",
   "execution_count": 5,
   "metadata": {},
   "outputs": [],
   "source": [
    "#import data\n",
    "well_basic = pd.read_csv('https://raw.githubusercontent.com/iqbalridalta/petroleum/main/Well0%20-%20Test.csv')"
   ]
  },
  {
   "cell_type": "markdown",
   "metadata": {},
   "source": [
    "EDA"
   ]
  },
  {
   "cell_type": "code",
   "execution_count": 6,
   "metadata": {},
   "outputs": [
    {
     "data": {
      "text/html": [
       "<div>\n",
       "<style scoped>\n",
       "    .dataframe tbody tr th:only-of-type {\n",
       "        vertical-align: middle;\n",
       "    }\n",
       "\n",
       "    .dataframe tbody tr th {\n",
       "        vertical-align: top;\n",
       "    }\n",
       "\n",
       "    .dataframe thead th {\n",
       "        text-align: right;\n",
       "    }\n",
       "</style>\n",
       "<table border=\"1\" class=\"dataframe\">\n",
       "  <thead>\n",
       "    <tr style=\"text-align: right;\">\n",
       "      <th></th>\n",
       "      <th>well</th>\n",
       "      <th>zone</th>\n",
       "      <th>top_perfo</th>\n",
       "      <th>bot_perfo</th>\n",
       "      <th>h(m)</th>\n",
       "      <th>porosity</th>\n",
       "      <th>permeability</th>\n",
       "      <th>sw</th>\n",
       "      <th>actual_rate</th>\n",
       "    </tr>\n",
       "  </thead>\n",
       "  <tbody>\n",
       "    <tr>\n",
       "      <th>0</th>\n",
       "      <td>A11</td>\n",
       "      <td>PHO-143</td>\n",
       "      <td>861.0</td>\n",
       "      <td>865.0</td>\n",
       "      <td>4.0</td>\n",
       "      <td>0.148</td>\n",
       "      <td>33.00</td>\n",
       "      <td>63.0</td>\n",
       "      <td>250.0</td>\n",
       "    </tr>\n",
       "    <tr>\n",
       "      <th>1</th>\n",
       "      <td>A12</td>\n",
       "      <td>PHO-143</td>\n",
       "      <td>888.5</td>\n",
       "      <td>892.0</td>\n",
       "      <td>3.5</td>\n",
       "      <td>0.190</td>\n",
       "      <td>27.90</td>\n",
       "      <td>57.8</td>\n",
       "      <td>250.0</td>\n",
       "    </tr>\n",
       "    <tr>\n",
       "      <th>2</th>\n",
       "      <td>B11</td>\n",
       "      <td>D-5b</td>\n",
       "      <td>695.0</td>\n",
       "      <td>698.0</td>\n",
       "      <td>3.0</td>\n",
       "      <td>0.140</td>\n",
       "      <td>5.22</td>\n",
       "      <td>46.0</td>\n",
       "      <td>NaN</td>\n",
       "    </tr>\n",
       "    <tr>\n",
       "      <th>3</th>\n",
       "      <td>B11</td>\n",
       "      <td>C-O33</td>\n",
       "      <td>534.0</td>\n",
       "      <td>536.0</td>\n",
       "      <td>2.0</td>\n",
       "      <td>0.240</td>\n",
       "      <td>172.95</td>\n",
       "      <td>39.0</td>\n",
       "      <td>187.0</td>\n",
       "    </tr>\n",
       "    <tr>\n",
       "      <th>4</th>\n",
       "      <td>B12</td>\n",
       "      <td>D-O5</td>\n",
       "      <td>674.0</td>\n",
       "      <td>682.0</td>\n",
       "      <td>8.0</td>\n",
       "      <td>0.230</td>\n",
       "      <td>96.60</td>\n",
       "      <td>32.0</td>\n",
       "      <td>200.0</td>\n",
       "    </tr>\n",
       "  </tbody>\n",
       "</table>\n",
       "</div>"
      ],
      "text/plain": [
       "  well     zone  top_perfo  bot_perfo  h(m)  porosity  permeability    sw  \\\n",
       "0  A11  PHO-143      861.0      865.0   4.0     0.148         33.00  63.0   \n",
       "1  A12  PHO-143      888.5      892.0   3.5     0.190         27.90  57.8   \n",
       "2  B11     D-5b      695.0      698.0   3.0     0.140          5.22  46.0   \n",
       "3  B11    C-O33      534.0      536.0   2.0     0.240        172.95  39.0   \n",
       "4  B12     D-O5      674.0      682.0   8.0     0.230         96.60  32.0   \n",
       "\n",
       "   actual_rate  \n",
       "0        250.0  \n",
       "1        250.0  \n",
       "2          NaN  \n",
       "3        187.0  \n",
       "4        200.0  "
      ]
     },
     "execution_count": 6,
     "metadata": {},
     "output_type": "execute_result"
    }
   ],
   "source": [
    "well_basic.head()"
   ]
  },
  {
   "cell_type": "code",
   "execution_count": 7,
   "metadata": {},
   "outputs": [
    {
     "data": {
      "text/plain": [
       "pandas.core.frame.DataFrame"
      ]
     },
     "execution_count": 7,
     "metadata": {},
     "output_type": "execute_result"
    }
   ],
   "source": [
    "type(well_basic)"
   ]
  },
  {
   "cell_type": "code",
   "execution_count": 9,
   "metadata": {},
   "outputs": [
    {
     "data": {
      "text/html": [
       "<div>\n",
       "<style scoped>\n",
       "    .dataframe tbody tr th:only-of-type {\n",
       "        vertical-align: middle;\n",
       "    }\n",
       "\n",
       "    .dataframe tbody tr th {\n",
       "        vertical-align: top;\n",
       "    }\n",
       "\n",
       "    .dataframe thead th {\n",
       "        text-align: right;\n",
       "    }\n",
       "</style>\n",
       "<table border=\"1\" class=\"dataframe\">\n",
       "  <thead>\n",
       "    <tr style=\"text-align: right;\">\n",
       "      <th></th>\n",
       "      <th>top_perfo</th>\n",
       "      <th>bot_perfo</th>\n",
       "      <th>h(m)</th>\n",
       "      <th>porosity</th>\n",
       "      <th>permeability</th>\n",
       "      <th>sw</th>\n",
       "      <th>actual_rate</th>\n",
       "    </tr>\n",
       "  </thead>\n",
       "  <tbody>\n",
       "    <tr>\n",
       "      <th>count</th>\n",
       "      <td>41.000000</td>\n",
       "      <td>41.000000</td>\n",
       "      <td>40.000000</td>\n",
       "      <td>41.000000</td>\n",
       "      <td>41.000000</td>\n",
       "      <td>41.000000</td>\n",
       "      <td>32.000000</td>\n",
       "    </tr>\n",
       "    <tr>\n",
       "      <th>mean</th>\n",
       "      <td>1013.446341</td>\n",
       "      <td>1018.380488</td>\n",
       "      <td>4.682500</td>\n",
       "      <td>0.205756</td>\n",
       "      <td>71.662195</td>\n",
       "      <td>57.536585</td>\n",
       "      <td>211.250000</td>\n",
       "    </tr>\n",
       "    <tr>\n",
       "      <th>std</th>\n",
       "      <td>310.536392</td>\n",
       "      <td>309.977956</td>\n",
       "      <td>2.494392</td>\n",
       "      <td>0.056449</td>\n",
       "      <td>83.813555</td>\n",
       "      <td>16.025195</td>\n",
       "      <td>94.818672</td>\n",
       "    </tr>\n",
       "    <tr>\n",
       "      <th>min</th>\n",
       "      <td>342.000000</td>\n",
       "      <td>357.000000</td>\n",
       "      <td>1.300000</td>\n",
       "      <td>0.100000</td>\n",
       "      <td>2.000000</td>\n",
       "      <td>21.000000</td>\n",
       "      <td>0.000000</td>\n",
       "    </tr>\n",
       "    <tr>\n",
       "      <th>25%</th>\n",
       "      <td>829.000000</td>\n",
       "      <td>833.000000</td>\n",
       "      <td>3.000000</td>\n",
       "      <td>0.170000</td>\n",
       "      <td>16.000000</td>\n",
       "      <td>50.000000</td>\n",
       "      <td>196.750000</td>\n",
       "    </tr>\n",
       "    <tr>\n",
       "      <th>50%</th>\n",
       "      <td>982.000000</td>\n",
       "      <td>990.000000</td>\n",
       "      <td>4.000000</td>\n",
       "      <td>0.200000</td>\n",
       "      <td>35.000000</td>\n",
       "      <td>58.000000</td>\n",
       "      <td>225.000000</td>\n",
       "    </tr>\n",
       "    <tr>\n",
       "      <th>75%</th>\n",
       "      <td>1245.000000</td>\n",
       "      <td>1249.000000</td>\n",
       "      <td>6.000000</td>\n",
       "      <td>0.240000</td>\n",
       "      <td>100.000000</td>\n",
       "      <td>66.000000</td>\n",
       "      <td>250.000000</td>\n",
       "    </tr>\n",
       "    <tr>\n",
       "      <th>max</th>\n",
       "      <td>1696.500000</td>\n",
       "      <td>1699.500000</td>\n",
       "      <td>11.000000</td>\n",
       "      <td>0.380000</td>\n",
       "      <td>406.000000</td>\n",
       "      <td>98.000000</td>\n",
       "      <td>350.000000</td>\n",
       "    </tr>\n",
       "  </tbody>\n",
       "</table>\n",
       "</div>"
      ],
      "text/plain": [
       "         top_perfo    bot_perfo       h(m)   porosity  permeability  \\\n",
       "count    41.000000    41.000000  40.000000  41.000000     41.000000   \n",
       "mean   1013.446341  1018.380488   4.682500   0.205756     71.662195   \n",
       "std     310.536392   309.977956   2.494392   0.056449     83.813555   \n",
       "min     342.000000   357.000000   1.300000   0.100000      2.000000   \n",
       "25%     829.000000   833.000000   3.000000   0.170000     16.000000   \n",
       "50%     982.000000   990.000000   4.000000   0.200000     35.000000   \n",
       "75%    1245.000000  1249.000000   6.000000   0.240000    100.000000   \n",
       "max    1696.500000  1699.500000  11.000000   0.380000    406.000000   \n",
       "\n",
       "              sw  actual_rate  \n",
       "count  41.000000    32.000000  \n",
       "mean   57.536585   211.250000  \n",
       "std    16.025195    94.818672  \n",
       "min    21.000000     0.000000  \n",
       "25%    50.000000   196.750000  \n",
       "50%    58.000000   225.000000  \n",
       "75%    66.000000   250.000000  \n",
       "max    98.000000   350.000000  "
      ]
     },
     "execution_count": 9,
     "metadata": {},
     "output_type": "execute_result"
    }
   ],
   "source": [
    "well_basic.describe()"
   ]
  },
  {
   "cell_type": "code",
   "execution_count": 21,
   "metadata": {},
   "outputs": [
    {
     "name": "stdout",
     "output_type": "stream",
     "text": [
      "well            0\n",
      "zone            0\n",
      "top_perfo       0\n",
      "bot_perfo       0\n",
      "h(m)            1\n",
      "porosity        0\n",
      "permeability    0\n",
      "sw              0\n",
      "actual_rate     9\n",
      "dtype: int64\n"
     ]
    }
   ],
   "source": [
    "mis_val = well_basic.isnull().sum()\n",
    "print(mis_val)"
   ]
  },
  {
   "cell_type": "code",
   "execution_count": 22,
   "metadata": {},
   "outputs": [
    {
     "data": {
      "image/png": "[encoded data removed]",
      "text/plain": [
       "<Figure size 432x288 with 1 Axes>"
      ]
     },
     "metadata": {
      "needs_background": "light"
     },
     "output_type": "display_data"
    },
    {
     "data": {
      "image/png": "[encoded data removed]",
      "text/plain": [
       "<Figure size 432x288 with 1 Axes>"
      ]
     },
     "metadata": {
      "needs_background": "light"
     },
     "output_type": "display_data"
    },
    {
     "data": {
      "image/png": "[encoded data removed]",
      "text/plain": [
       "<Figure size 432x288 with 1 Axes>"
      ]
     },
     "metadata": {
      "needs_background": "light"
     },
     "output_type": "display_data"
    },
    {
     "data": {
      "image/png": "[encoded data removed]",
      "text/plain": [
       "<Figure size 432x288 with 1 Axes>"
      ]
     },
     "metadata": {
      "needs_background": "light"
     },
     "output_type": "display_data"
    },
    {
     "data": {
      "image/png": "[encoded data removed]",
      "text/plain": [
       "<Figure size 432x288 with 1 Axes>"
      ]
     },
     "metadata": {
      "needs_background": "light"
     },
     "output_type": "display_data"
    }
   ],
   "source": [
    "import seaborn as sns\n",
    "num_col = ['h(m)', 'porosity', 'permeability', 'sw', 'actual_rate']\n",
    "for col in num_col:\n",
    "    sns.distplot(well_basic[col])\n",
    "    plt.show()"
   ]
  },
  {
   "cell_type": "code",
   "execution_count": 15,
   "metadata": {},
   "outputs": [
    {
     "data": {
      "text/plain": [
       "<matplotlib.axes._subplots.AxesSubplot at 0x234554dad08>"
      ]
     },
     "execution_count": 15,
     "metadata": {},
     "output_type": "execute_result"
    },
    {
     "data": {
      "image/png": "[encoded data removed]",
      "text/plain": [
       "<Figure size 432x288 with 2 Axes>"
      ]
     },
     "metadata": {
      "needs_background": "light"
     },
     "output_type": "display_data"
    }
   ],
   "source": [
    "num_corr = well_basic[num_col].corr()\n",
    "sns.heatmap(num_corr, annot = True)"
   ]
  },
  {
   "cell_type": "code",
   "execution_count": 19,
   "metadata": {},
   "outputs": [
    {
     "data": {
      "text/plain": [
       "actual_rate     1.000000\n",
       "porosity        0.371301\n",
       "sw              0.231319\n",
       "h(m)            0.154537\n",
       "permeability    0.141686\n",
       "Name: actual_rate, dtype: float64"
      ]
     },
     "execution_count": 19,
     "metadata": {},
     "output_type": "execute_result"
    }
   ],
   "source": [
    "num_corr['actual_rate'].sort_values(ascending = False)"
   ]
  },
  {
   "cell_type": "markdown",
   "metadata": {},
   "source": [
    "Preprocessing"
   ]
  },
  {
   "cell_type": "code",
   "execution_count": 23,
   "metadata": {},
   "outputs": [],
   "source": [
    "well_origin = pd.get_dummies(well_basic)"
   ]
  },
  {
   "cell_type": "code",
   "execution_count": 24,
   "metadata": {},
   "outputs": [],
   "source": [
    "#imputing data \n",
    "from sklearn.impute import SimpleImputer\n",
    "numeric_columns = well_basic.select_dtypes(include='number').columns\n",
    "imp = SimpleImputer (missing_values = np.nan, strategy = 'mean')\n",
    "well_basic[numeric_columns] = pd.DataFrame(imp.fit_transform(well_basic[numeric_columns]), columns=numeric_columns)"
   ]
  },
  {
   "cell_type": "code",
   "execution_count": 25,
   "metadata": {},
   "outputs": [
    {
     "data": {
      "text/html": [
       "<div>\n",
       "<style scoped>\n",
       "    .dataframe tbody tr th:only-of-type {\n",
       "        vertical-align: middle;\n",
       "    }\n",
       "\n",
       "    .dataframe tbody tr th {\n",
       "        vertical-align: top;\n",
       "    }\n",
       "\n",
       "    .dataframe thead th {\n",
       "        text-align: right;\n",
       "    }\n",
       "</style>\n",
       "<table border=\"1\" class=\"dataframe\">\n",
       "  <thead>\n",
       "    <tr style=\"text-align: right;\">\n",
       "      <th></th>\n",
       "      <th>well</th>\n",
       "      <th>zone</th>\n",
       "      <th>top_perfo</th>\n",
       "      <th>bot_perfo</th>\n",
       "      <th>h(m)</th>\n",
       "      <th>porosity</th>\n",
       "      <th>permeability</th>\n",
       "      <th>sw</th>\n",
       "      <th>actual_rate</th>\n",
       "    </tr>\n",
       "  </thead>\n",
       "  <tbody>\n",
       "    <tr>\n",
       "      <th>0</th>\n",
       "      <td>A11</td>\n",
       "      <td>PHO-143</td>\n",
       "      <td>861.0</td>\n",
       "      <td>865.0</td>\n",
       "      <td>4.0</td>\n",
       "      <td>0.148</td>\n",
       "      <td>33.00</td>\n",
       "      <td>63.0</td>\n",
       "      <td>250.00</td>\n",
       "    </tr>\n",
       "    <tr>\n",
       "      <th>1</th>\n",
       "      <td>A12</td>\n",
       "      <td>PHO-143</td>\n",
       "      <td>888.5</td>\n",
       "      <td>892.0</td>\n",
       "      <td>3.5</td>\n",
       "      <td>0.190</td>\n",
       "      <td>27.90</td>\n",
       "      <td>57.8</td>\n",
       "      <td>250.00</td>\n",
       "    </tr>\n",
       "    <tr>\n",
       "      <th>2</th>\n",
       "      <td>B11</td>\n",
       "      <td>D-5b</td>\n",
       "      <td>695.0</td>\n",
       "      <td>698.0</td>\n",
       "      <td>3.0</td>\n",
       "      <td>0.140</td>\n",
       "      <td>5.22</td>\n",
       "      <td>46.0</td>\n",
       "      <td>211.25</td>\n",
       "    </tr>\n",
       "    <tr>\n",
       "      <th>3</th>\n",
       "      <td>B11</td>\n",
       "      <td>C-O33</td>\n",
       "      <td>534.0</td>\n",
       "      <td>536.0</td>\n",
       "      <td>2.0</td>\n",
       "      <td>0.240</td>\n",
       "      <td>172.95</td>\n",
       "      <td>39.0</td>\n",
       "      <td>187.00</td>\n",
       "    </tr>\n",
       "    <tr>\n",
       "      <th>4</th>\n",
       "      <td>B12</td>\n",
       "      <td>D-O5</td>\n",
       "      <td>674.0</td>\n",
       "      <td>682.0</td>\n",
       "      <td>8.0</td>\n",
       "      <td>0.230</td>\n",
       "      <td>96.60</td>\n",
       "      <td>32.0</td>\n",
       "      <td>200.00</td>\n",
       "    </tr>\n",
       "  </tbody>\n",
       "</table>\n",
       "</div>"
      ],
      "text/plain": [
       "  well     zone  top_perfo  bot_perfo  h(m)  porosity  permeability    sw  \\\n",
       "0  A11  PHO-143      861.0      865.0   4.0     0.148         33.00  63.0   \n",
       "1  A12  PHO-143      888.5      892.0   3.5     0.190         27.90  57.8   \n",
       "2  B11     D-5b      695.0      698.0   3.0     0.140          5.22  46.0   \n",
       "3  B11    C-O33      534.0      536.0   2.0     0.240        172.95  39.0   \n",
       "4  B12     D-O5      674.0      682.0   8.0     0.230         96.60  32.0   \n",
       "\n",
       "   actual_rate  \n",
       "0       250.00  \n",
       "1       250.00  \n",
       "2       211.25  \n",
       "3       187.00  \n",
       "4       200.00  "
      ]
     },
     "execution_count": 25,
     "metadata": {},
     "output_type": "execute_result"
    }
   ],
   "source": [
    "well_basic.head()"
   ]
  },
  {
   "cell_type": "code",
   "execution_count": 26,
   "metadata": {},
   "outputs": [
    {
     "data": {
      "text/plain": [
       "array([[250.  ],\n",
       "       [250.  ],\n",
       "       [211.25],\n",
       "       [187.  ],\n",
       "       [200.  ],\n",
       "       [200.  ],\n",
       "       [211.25],\n",
       "       [250.  ],\n",
       "       [211.25],\n",
       "       [211.25],\n",
       "       [250.  ],\n",
       "       [250.  ],\n",
       "       [211.25],\n",
       "       [211.25],\n",
       "       [250.  ],\n",
       "       [250.  ],\n",
       "       [250.  ],\n",
       "       [211.25],\n",
       "       [250.  ],\n",
       "       [250.  ],\n",
       "       [350.  ],\n",
       "       [350.  ],\n",
       "       [200.  ],\n",
       "       [200.  ],\n",
       "       [300.  ],\n",
       "       [150.  ],\n",
       "       [211.25],\n",
       "       [350.  ],\n",
       "       [350.  ],\n",
       "       [300.  ],\n",
       "       [ 82.  ],\n",
       "       [200.  ],\n",
       "       [200.  ],\n",
       "       [211.25],\n",
       "       [200.  ],\n",
       "       [200.  ],\n",
       "       [  0.  ],\n",
       "       [  0.  ],\n",
       "       [150.  ],\n",
       "       [ 67.  ],\n",
       "       [ 24.  ]])"
      ]
     },
     "execution_count": 26,
     "metadata": {},
     "output_type": "execute_result"
    }
   ],
   "source": [
    "#importing data for model\n",
    "X = well_basic.drop(well_basic.columns[[0,1,2,3,8]], axis = 1).values\n",
    "y = well_basic['actual_rate'].values\n",
    "X.reshape(-1,1)\n",
    "y.reshape(-1,1)"
   ]
  },
  {
   "cell_type": "code",
   "execution_count": 27,
   "metadata": {},
   "outputs": [
    {
     "name": "stdout",
     "output_type": "stream",
     "text": [
      "41\n"
     ]
    }
   ],
   "source": [
    "print(len(X))"
   ]
  },
  {
   "cell_type": "code",
   "execution_count": 28,
   "metadata": {},
   "outputs": [
    {
     "data": {
      "text/plain": [
       "numpy.ndarray"
      ]
     },
     "execution_count": 28,
     "metadata": {},
     "output_type": "execute_result"
    }
   ],
   "source": [
    "type(X)"
   ]
  },
  {
   "cell_type": "markdown",
   "metadata": {},
   "source": [
    "Initialize Model"
   ]
  },
  {
   "cell_type": "code",
   "execution_count": 69,
   "metadata": {},
   "outputs": [],
   "source": [
    "from sklearn.ensemble import AdaBoostRegressor\n",
    "from sklearn.model_selection import train_test_split\n",
    "from sklearn.tree import DecisionTreeRegressor\n",
    "from sklearn.metrics import roc_auc_score\n",
    "from sklearn.metrics import mean_squared_error as MSE"
   ]
  },
  {
   "cell_type": "code",
   "execution_count": 34,
   "metadata": {},
   "outputs": [
    {
     "name": "stdout",
     "output_type": "stream",
     "text": [
      "[196.94444444 213.57142857 250.         219.75       237.08333333\n",
      " 250.         250.         245.         150.        ]\n"
     ]
    }
   ],
   "source": [
    "SEED = 1\n",
    "X_train, X_test, y_train, y_test = train_test_split (X, y, test_size = 0.2, random_state = 1)\n",
    "\n",
    "dr = DecisionTreeRegressor (max_depth=4, random_state = SEED)\n",
    "adb_reg = AdaBoostRegressor (base_estimator = dr, n_estimators = 100)\n",
    "\n",
    "adb_reg.fit(X_train, y_train)\n",
    "y_pred = adb_reg.predict(X_test)\n",
    "print(y_pred)"
   ]
  },
  {
   "cell_type": "code",
   "execution_count": 35,
   "metadata": {},
   "outputs": [],
   "source": [
    "y_adb = adb_reg.predict(X)"
   ]
  },
  {
   "cell_type": "code",
   "execution_count": null,
   "metadata": {},
   "outputs": [],
   "source": [
    "df_adb['error'] = df_adb.apply(lambda row: (row.actual_rate - row.adb_prediction), axis = 1)"
   ]
  },
  {
   "cell_type": "code",
   "execution_count": 68,
   "metadata": {},
   "outputs": [
    {
     "name": "stdout",
     "output_type": "stream",
     "text": [
      "52.47825435044712\n"
     ]
    }
   ],
   "source": [
    "rmse = MSE (y_test, y_pred)**(1/2)\n",
    "print(rmse)"
   ]
  },
  {
   "cell_type": "markdown",
   "metadata": {},
   "source": [
    "Create Output File"
   ]
  },
  {
   "cell_type": "code",
   "execution_count": 39,
   "metadata": {},
   "outputs": [],
   "source": [
    "df_adb = pd.DataFrame(y_adb)\n",
    "df_adb.columns = ['adb_prediction']\n",
    "df_adb = pd.concat([well_basic, df_adb], axis = 1)\n",
    "df_adb.to_excel('ADB Prediction.xlsx')"
   ]
  },
  {
   "cell_type": "code",
   "execution_count": 54,
   "metadata": {},
   "outputs": [
    {
     "name": "stdout",
     "output_type": "stream",
     "text": [
      "52.47825435044712\n"
     ]
    }
   ],
   "source": [
    "rmse = MSE (y_test, y_pred)**(1/2)\n",
    "print(rmse)"
   ]
  },
  {
   "cell_type": "code",
   "execution_count": null,
   "metadata": {},
   "outputs": [],
   "source": []
  }
 ],
 "metadata": {
  "kernelspec": {
   "display_name": "Python 3",
   "language": "python",
   "name": "python3"
  },
  "language_info": {
   "codemirror_mode": {
    "name": "ipython",
    "version": 3
   },
   "file_extension": ".py",
   "mimetype": "text/x-python",
   "name": "python",
   "nbconvert_exporter": "python",
   "pygments_lexer": "ipython3",
   "version": "3.7.6"
  }
 },
 "nbformat": 4,
 "nbformat_minor": 4
}
