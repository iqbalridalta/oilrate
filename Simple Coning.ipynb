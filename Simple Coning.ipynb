{
 "cells": [
  {
   "cell_type": "code",
   "execution_count": 78,
   "metadata": {},
   "outputs": [],
   "source": [
    "#preprocessing"
   ]
  },
  {
   "cell_type": "code",
   "execution_count": 79,
   "metadata": {},
   "outputs": [],
   "source": [
    "from sklearn.cluster import KMeans\n",
    "import matplotlib.pyplot as plt\n",
    "from sklearn.preprocessing import StandardScaler\n",
    "import pandas as pd\n",
    "import numpy as np"
   ]
  },
  {
   "cell_type": "code",
   "execution_count": 80,
   "metadata": {},
   "outputs": [],
   "source": [
    "model = pd.read_csv('D:Disc Baru\\\\Machine Learning\\\\Datacamp\\\\KMeans\\\\oil_coning.csv')"
   ]
  },
  {
   "cell_type": "code",
   "execution_count": 81,
   "metadata": {},
   "outputs": [
    {
     "data": {
      "text/html": [
       "<div>\n",
       "<style scoped>\n",
       "    .dataframe tbody tr th:only-of-type {\n",
       "        vertical-align: middle;\n",
       "    }\n",
       "\n",
       "    .dataframe tbody tr th {\n",
       "        vertical-align: top;\n",
       "    }\n",
       "\n",
       "    .dataframe thead th {\n",
       "        text-align: right;\n",
       "    }\n",
       "</style>\n",
       "<table border=\"1\" class=\"dataframe\">\n",
       "  <thead>\n",
       "    <tr style=\"text-align: right;\">\n",
       "      <th></th>\n",
       "      <th>Date</th>\n",
       "      <th>Gas Rate</th>\n",
       "      <th>Oil Rate</th>\n",
       "      <th>Water Rate</th>\n",
       "    </tr>\n",
       "  </thead>\n",
       "  <tbody>\n",
       "    <tr>\n",
       "      <th>0</th>\n",
       "      <td>18-02-17</td>\n",
       "      <td>0</td>\n",
       "      <td>114</td>\n",
       "      <td>0</td>\n",
       "    </tr>\n",
       "    <tr>\n",
       "      <th>1</th>\n",
       "      <td>22-02-17</td>\n",
       "      <td>0</td>\n",
       "      <td>216</td>\n",
       "      <td>0</td>\n",
       "    </tr>\n",
       "    <tr>\n",
       "      <th>2</th>\n",
       "      <td>01-04-17</td>\n",
       "      <td>0</td>\n",
       "      <td>216</td>\n",
       "      <td>0</td>\n",
       "    </tr>\n",
       "    <tr>\n",
       "      <th>3</th>\n",
       "      <td>01-06-17</td>\n",
       "      <td>1717</td>\n",
       "      <td>259</td>\n",
       "      <td>316</td>\n",
       "    </tr>\n",
       "    <tr>\n",
       "      <th>4</th>\n",
       "      <td>26-06-17</td>\n",
       "      <td>1948</td>\n",
       "      <td>161</td>\n",
       "      <td>253</td>\n",
       "    </tr>\n",
       "  </tbody>\n",
       "</table>\n",
       "</div>"
      ],
      "text/plain": [
       "       Date  Gas Rate  Oil Rate  Water Rate\n",
       "0  18-02-17         0       114           0\n",
       "1  22-02-17         0       216           0\n",
       "2  01-04-17         0       216           0\n",
       "3  01-06-17      1717       259         316\n",
       "4  26-06-17      1948       161         253"
      ]
     },
     "execution_count": 81,
     "metadata": {},
     "output_type": "execute_result"
    }
   ],
   "source": [
    "model.head()"
   ]
  },
  {
   "cell_type": "markdown",
   "metadata": {},
   "source": [
    "Gas rate is stated in MSCFD,\n",
    "Oil rate is stated in BOPD,\n",
    "Water rate is stated in BWPD"
   ]
  },
  {
   "cell_type": "code",
   "execution_count": 82,
   "metadata": {},
   "outputs": [
    {
     "name": "stdout",
     "output_type": "stream",
     "text": [
      "<class 'pandas.core.frame.DataFrame'>\n",
      "RangeIndex: 9 entries, 0 to 8\n",
      "Data columns (total 4 columns):\n",
      "Date          9 non-null object\n",
      "Gas Rate      9 non-null int64\n",
      "Oil Rate      9 non-null int64\n",
      "Water Rate    9 non-null int64\n",
      "dtypes: int64(3), object(1)\n",
      "memory usage: 416.0+ bytes\n"
     ]
    }
   ],
   "source": [
    "model.info()"
   ]
  },
  {
   "cell_type": "code",
   "execution_count": 83,
   "metadata": {},
   "outputs": [
    {
     "data": {
      "text/html": [
       "<div>\n",
       "<style scoped>\n",
       "    .dataframe tbody tr th:only-of-type {\n",
       "        vertical-align: middle;\n",
       "    }\n",
       "\n",
       "    .dataframe tbody tr th {\n",
       "        vertical-align: top;\n",
       "    }\n",
       "\n",
       "    .dataframe thead th {\n",
       "        text-align: right;\n",
       "    }\n",
       "</style>\n",
       "<table border=\"1\" class=\"dataframe\">\n",
       "  <thead>\n",
       "    <tr style=\"text-align: right;\">\n",
       "      <th></th>\n",
       "      <th>Gas Rate</th>\n",
       "      <th>Oil Rate</th>\n",
       "      <th>Water Rate</th>\n",
       "    </tr>\n",
       "  </thead>\n",
       "  <tbody>\n",
       "    <tr>\n",
       "      <th>0</th>\n",
       "      <td>0</td>\n",
       "      <td>114</td>\n",
       "      <td>0</td>\n",
       "    </tr>\n",
       "    <tr>\n",
       "      <th>1</th>\n",
       "      <td>0</td>\n",
       "      <td>216</td>\n",
       "      <td>0</td>\n",
       "    </tr>\n",
       "    <tr>\n",
       "      <th>2</th>\n",
       "      <td>0</td>\n",
       "      <td>216</td>\n",
       "      <td>0</td>\n",
       "    </tr>\n",
       "    <tr>\n",
       "      <th>3</th>\n",
       "      <td>1717</td>\n",
       "      <td>259</td>\n",
       "      <td>316</td>\n",
       "    </tr>\n",
       "    <tr>\n",
       "      <th>4</th>\n",
       "      <td>1948</td>\n",
       "      <td>161</td>\n",
       "      <td>253</td>\n",
       "    </tr>\n",
       "  </tbody>\n",
       "</table>\n",
       "</div>"
      ],
      "text/plain": [
       "   Gas Rate  Oil Rate  Water Rate\n",
       "0         0       114           0\n",
       "1         0       216           0\n",
       "2         0       216           0\n",
       "3      1717       259         316\n",
       "4      1948       161         253"
      ]
     },
     "execution_count": 83,
     "metadata": {},
     "output_type": "execute_result"
    }
   ],
   "source": [
    "model_var = model.iloc[:, 1:]\n",
    "model_var.head()"
   ]
  },
  {
   "cell_type": "code",
   "execution_count": 64,
   "metadata": {},
   "outputs": [
    {
     "name": "stdout",
     "output_type": "stream",
     "text": [
      "[[   0  114    0]\n",
      " [   0  216    0]\n",
      " [   0  216    0]\n",
      " [1717  259  316]\n",
      " [1948  161  253]\n",
      " [   0  214  214]\n",
      " [ 825  273  273]\n",
      " [1507  206  206]\n",
      " [ 645  481  721]]\n"
     ]
    }
   ],
   "source": [
    "model_array = np.array(model_var)\n",
    "print(model_array)"
   ]
  },
  {
   "cell_type": "code",
   "execution_count": 84,
   "metadata": {},
   "outputs": [],
   "source": [
    "scaler = StandardScaler()\n",
    "scaler.fit(model_array)\n",
    "StandardScaler(copy=True, with_mean=True, with_std = True)\n",
    "model_scaled = scaler.transform(model_var)"
   ]
  },
  {
   "cell_type": "code",
   "execution_count": 85,
   "metadata": {},
   "outputs": [
    {
     "name": "stdout",
     "output_type": "stream",
     "text": [
      "[[-0.97009242 -1.27676421 -1.03288059]\n",
      " [-0.97009242 -0.22463715 -1.03288059]\n",
      " [-0.97009242 -0.22463715 -1.03288059]\n",
      " [ 1.28688412  0.21890661  0.44846706]\n",
      " [ 1.59053093 -0.79196056  0.15313509]\n",
      " [-0.97009242 -0.24526709 -0.02968946]\n",
      " [ 0.11436049  0.36331621  0.24689128]\n",
      " [ 1.01084156 -0.32778686 -0.06719193]\n",
      " [-0.12224742  2.5088302   2.34702972]]\n"
     ]
    }
   ],
   "source": [
    "print(model_scaled)"
   ]
  },
  {
   "cell_type": "code",
   "execution_count": 86,
   "metadata": {},
   "outputs": [
    {
     "name": "stdout",
     "output_type": "stream",
     "text": [
      "[0 0 0 0 0 0 0 0 1]\n"
     ]
    }
   ],
   "source": [
    "#choose 2 as the initial number of cluster due to expected 2 class: normal rate and coning\n",
    "model_km = KMeans(n_clusters = 2)\n",
    "model_km.fit(model_scaled)\n",
    "labels = model_km.predict(model_scaled)\n",
    "print(labels)"
   ]
  },
  {
   "cell_type": "code",
   "execution_count": 87,
   "metadata": {},
   "outputs": [
    {
     "name": "stderr",
     "output_type": "stream",
     "text": [
      "C:\\Users\\iqbal\\anaconda3\\lib\\site-packages\\matplotlib\\text.py:1150: FutureWarning: elementwise comparison failed; returning scalar instead, but in the future will perform elementwise comparison\n",
      "  if s != self._text:\n"
     ]
    },
    {
     "data": {
      "image/png": "[encoded data removed]",
      "text/plain": [
       "<Figure size 432x288 with 1 Axes>"
      ]
     },
     "metadata": {
      "needs_background": "light"
     },
     "output_type": "display_data"
    }
   ],
   "source": [
    "#creata visualization of k\n",
    "xs = model_scaled[:,1]\n",
    "ys = model_scaled[:,2]\n",
    "\n",
    "x_real = model_array[:,1:3]\n",
    "#fig, ax = plt.subplots()\n",
    "for i, txt in enumerate(x_real):\n",
    "    plt.annotate(txt, (xs[i], ys[i]))\n",
    "\n",
    "plt.scatter(xs, ys, c=labels)\n",
    " \n",
    "    \n",
    "centroids = model_km.cluster_centers_\n",
    "centroid_x = centroids[:,1]\n",
    "centroid_y = centroids[:,2]\n",
    "plt.scatter(centroid_x, centroid_y, marker = \"D\", s=50, c=\"Red\")\n",
    "plt.show()"
   ]
  },
  {
   "cell_type": "code",
   "execution_count": 88,
   "metadata": {},
   "outputs": [],
   "source": [
    "#plot elbow method to analyze number of k optimum\n",
    "def inertia_kmeans(i, samples):\n",
    "    ks = range(1,i)\n",
    "    inertias = []\n",
    "    for k in ks:\n",
    "        km = KMeans(n_clusters = k)\n",
    "        km.fit(samples)\n",
    "        inertias.append(km.inertia_)\n",
    "    plt.plot(ks, inertias, \"-o\")\n",
    "    plt.xlabel(\"number of clusters, k\")\n",
    "    plt.ylabel(\"inertia\")\n",
    "    plt.xticks(ks)\n",
    "    plt.show()"
   ]
  },
  {
   "cell_type": "code",
   "execution_count": 89,
   "metadata": {},
   "outputs": [
    {
     "name": "stderr",
     "output_type": "stream",
     "text": [
      "C:\\Users\\iqbal\\anaconda3\\lib\\site-packages\\ipykernel_launcher.py:7: ConvergenceWarning: Number of distinct clusters (8) found smaller than n_clusters (9). Possibly due to duplicate points in X.\n",
      "  import sys\n"
     ]
    },
    {
     "data": {
      "image/png": "[encoded data removed]",
      "text/plain": [
       "<Figure size 432x288 with 1 Axes>"
      ]
     },
     "metadata": {
      "needs_background": "light"
     },
     "output_type": "display_data"
    }
   ],
   "source": [
    "inertia_kmeans(10, model_array)"
   ]
  },
  {
   "cell_type": "markdown",
   "metadata": {},
   "source": [
    "We can see that from elbow method, 2 number of K is optimum, matches our intuition of target class."
   ]
  },
  {
   "cell_type": "code",
   "execution_count": 90,
   "metadata": {},
   "outputs": [],
   "source": [
    "df_label = pd.DataFrame(labels)\n",
    "df_label.columns = ['water_coning']\n",
    "df_label['water_coning'] = df_label['water_coning'].replace([0,1], ['No', 'Yes'])"
   ]
  },
  {
   "cell_type": "code",
   "execution_count": 91,
   "metadata": {},
   "outputs": [
    {
     "name": "stdout",
     "output_type": "stream",
     "text": [
      "       Date  Gas Rate  Oil Rate  Water Rate\n",
      "8  25-12-17       645       481         721\n"
     ]
    }
   ],
   "source": [
    "#show data with coning presence\n",
    "print(model[df_label['water_coning']=='Yes'])"
   ]
  },
  {
   "cell_type": "markdown",
   "metadata": {},
   "source": [
    "Intuitively, we can analyze this value matches our senses since the water production has been the major contribution of the water"
   ]
  },
  {
   "cell_type": "code",
   "execution_count": 92,
   "metadata": {},
   "outputs": [
    {
     "name": "stdout",
     "output_type": "stream",
     "text": [
      "       Date  Gas Rate  Oil Rate  Water Rate liquid_loading\n",
      "0  18-02-17         0       114           0             No\n",
      "1  22-02-17         0       216           0             No\n",
      "2  01-04-17         0       216           0             No\n",
      "3  01-06-17      1717       259         316             No\n",
      "4  26-06-17      1948       161         253             No\n",
      "5  01-07-17         0       214         214             No\n",
      "6  09-07-17       825       273         273             No\n",
      "7  11-07-17      1507       206         206             No\n",
      "8  25-12-17       645       481         721            Yes\n"
     ]
    }
   ],
   "source": [
    "df_label = pd.concat([model, df_label], axis = 1)\n",
    "df_label.to_csv('prediction_water_coning.csv')\n",
    "print(df_label)"
   ]
  },
  {
   "cell_type": "code",
   "execution_count": null,
   "metadata": {},
   "outputs": [],
   "source": []
  }
 ],
 "metadata": {
  "kernelspec": {
   "display_name": "Python 3",
   "language": "python",
   "name": "python3"
  },
  "language_info": {
   "codemirror_mode": {
    "name": "ipython",
    "version": 3
   },
   "file_extension": ".py",
   "mimetype": "text/x-python",
   "name": "python",
   "nbconvert_exporter": "python",
   "pygments_lexer": "ipython3",
   "version": "3.7.6"
  }
 },
 "nbformat": 4,
 "nbformat_minor": 4
}
